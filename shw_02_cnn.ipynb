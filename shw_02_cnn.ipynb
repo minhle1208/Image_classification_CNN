{
  "cells": [
    {
      "cell_type": "markdown",
      "metadata": {
        "id": "w35Q6hOIy4sk",
        "pycharm": {
          "name": "#%% md\n"
        }
      },
      "source": [
        "# Глубинное обучение 1 / Введение в глубинное обучение, ФКН ВШЭ\n",
        "\n",
        "## Домашнее задание 2: сверточный классификатор.\n",
        "\n",
        "### Общая информация\n",
        "\n",
        "Оценка после штрафа после мягкого дедлайна вычисляется по формуле $M_{\\text{penalty}} = M_{\\text{full}} \\cdot 0.85^{t/1440}$, где $M_{\\text{full}}$ — полная оценка за работу без учета штрафа, а $t$ — время в минутах, прошедшее после мягкого дедлайна (округление до двух цифр после запятой). Таким образом, спустя первые сутки после мягкого дедлайна вы не можете получить оценку выше 8.5, а если сдать через четыре дня после мягкого дедлайна, то ваш максимум — 5.22 балла.\n",
        "\n",
        "### Оценивание и штрафы\n",
        "\n",
        "Максимально допустимая оценка за работу — 10 баллов. Сдавать задание после указанного срока сдачи нельзя.\n",
        "\n",
        "Задание выполняется самостоятельно. «Похожие» решения считаются плагиатом и все задействованные студенты (в том числе те, у кого списали) не могут получить за него больше 0 баллов. Если вы нашли решение какого-то из заданий (или его часть) в открытом источнике, необходимо указать ссылку на этот источник в отдельном блоке в конце вашей работы (скорее всего вы будете не единственным, кто это нашел, поэтому чтобы исключить подозрение в плагиате, необходима ссылка на источник).\n",
        "\n",
        "Неэффективная реализация кода может негативно отразиться на оценке. Также оценка может быть снижена за плохо читаемый код и плохо оформленные графики. Все ответы должны сопровождаться кодом или комментариями о том, как они были получены.\n",
        "\n",
        "### О задании\n",
        "\n",
        "В этом задании вам предстоит познакомиться со сверточными сетями и их обучением для классификации изображений с использованием библиотеки PyTorch.\n"
      ]
    },
    {
      "cell_type": "code",
      "execution_count": 3,
      "metadata": {
        "id": "SaACifdX2QOo",
        "pycharm": {
          "name": "#%%\n"
        }
      },
      "outputs": [],
      "source": [
        "import torch\n",
        "import torch.nn as nn\n",
        "import torch.nn.functional as F\n",
        "import torch.optim as optim\n",
        "import torchvision\n",
        "import torchvision.transforms as transforms\n",
        "\n",
        "import matplotlib.pyplot as plt\n",
        "import numpy as np\n",
        "\n",
        "from sklearn.model_selection import train_test_split"
      ]
    },
    {
      "cell_type": "markdown",
      "metadata": {
        "id": "TIXaUYM-0JFl",
        "pycharm": {
          "name": "#%% md\n"
        }
      },
      "source": [
        "## 0. Загрузка данных\n",
        "\n",
        "Работать мы будем с набором данных [CIFAR10](https://www.cs.toronto.edu/~kriz/cifar.html). CIFAR10 представляет собой набор изображений 32х32 пикселя, разделенных на 10 классов.\n",
        "\n",
        "![title](https://pytorch.org/tutorials/_images/cifar10.png)\n",
        "\n",
        "\n"
      ]
    },
    {
      "cell_type": "markdown",
      "metadata": {
        "id": "g-0EEjl_10vB",
        "pycharm": {
          "name": "#%% md\n"
        }
      },
      "source": [
        "Набор данных уже определен в <code>torchvision.datasets</code>, так что возьмем его оттуда.\n",
        "\n"
      ]
    },
    {
      "cell_type": "code",
      "execution_count": 4,
      "metadata": {
        "id": "Cbwe92dT3aPZ",
        "pycharm": {
          "name": "#%%\n"
        }
      },
      "outputs": [],
      "source": [
        "def get_cifar10_data(batch_size, transform_train):\n",
        "    torch.manual_seed(0)\n",
        "    np.random.seed(0)\n",
        "\n",
        "    transform_test = transforms.Compose(\n",
        "        [transforms.ToTensor(),\n",
        "         # Переводим цвета пикселей в отрезок [-1, 1]\n",
        "         transforms.Normalize((0.5, 0.5, 0.5), (0.5, 0.5, 0.5))]\n",
        "    )\n",
        "\n",
        "    # Загружаем данные\n",
        "    trainvalset = torchvision.datasets.CIFAR10(root='./data', train=True,\n",
        "                                               download=True, transform=transform_train)\n",
        "    testset = torchvision.datasets.CIFAR10(root='./data', train=False,\n",
        "                                           download=True, transform=transform_test)\n",
        "\n",
        "    # В датасете определено разбиение только на train и test,\n",
        "    # так что валидацию дополнительно выделяем из обучающей выборки\n",
        "    train_idx, valid_idx = train_test_split(np.arange(len(trainvalset)), test_size=0.3,\n",
        "                                            shuffle=True, random_state=0)\n",
        "    trainset = torch.utils.data.Subset(trainvalset, train_idx)\n",
        "    valset = torch.utils.data.Subset(trainvalset, valid_idx)\n",
        "\n",
        "    train_loader = torch.utils.data.DataLoader(trainset, batch_size=batch_size,\n",
        "                                               shuffle=True, num_workers=2)\n",
        "    val_loader = torch.utils.data.DataLoader(valset, batch_size=batch_size,\n",
        "                                             shuffle=False, num_workers=2)\n",
        "    test_loader = torch.utils.data.DataLoader(testset, batch_size=batch_size,\n",
        "                                              shuffle=False, num_workers=2)\n",
        "\n",
        "    return train_loader, val_loader, test_loader\n",
        ""
      ]
    },
    {
      "cell_type": "code",
      "execution_count": 5,
      "metadata": {
        "colab": {
          "base_uri": "https://localhost:8080/"
        },
        "id": "2G2rLnN5y6Jj",
        "outputId": "e265c8fb-41ca-4950-e879-118f2d184fe3",
        "pycharm": {
          "name": "#%%\n"
        }
      },
      "outputs": [
        {
          "output_type": "stream",
          "name": "stdout",
          "text": [
            "Downloading https://www.cs.toronto.edu/~kriz/cifar-10-python.tar.gz to ./data/cifar-10-python.tar.gz\n"
          ]
        },
        {
          "output_type": "stream",
          "name": "stderr",
          "text": [
            "100%|██████████| 170M/170M [00:04<00:00, 41.2MB/s]\n"
          ]
        },
        {
          "output_type": "stream",
          "name": "stdout",
          "text": [
            "Extracting ./data/cifar-10-python.tar.gz to ./data\n",
            "Files already downloaded and verified\n"
          ]
        }
      ],
      "source": [
        "transform = transforms.Compose(\n",
        "        [transforms.ToTensor(),\n",
        "         transforms.Normalize((0.5, 0.5, 0.5), (0.5, 0.5, 0.5))]\n",
        ")\n",
        "\n",
        "train_loader, val_loader, test_loader = get_cifar10_data(batch_size=64,\n",
        "                                                         transform_train=transform)"
      ]
    },
    {
      "cell_type": "markdown",
      "metadata": {
        "id": "-82HWgXs77W1",
        "pycharm": {
          "name": "#%% md\n"
        }
      },
      "source": [
        "Посмотрим на изображения:"
      ]
    },
    {
      "cell_type": "code",
      "execution_count": 6,
      "metadata": {
        "colab": {
          "base_uri": "https://localhost:8080/",
          "height": 211
        },
        "id": "ACnwaC5iy6L2",
        "outputId": "88ea91c9-7a3c-4f83-8dc5-d76586d8fc80",
        "pycharm": {
          "name": "#%%\n"
        }
      },
      "outputs": [
        {
          "output_type": "display_data",
          "data": {
            "text/plain": [
              "<Figure size 640x480 with 1 Axes>"
            ],
            "image/png": "[encoded data removed]"
          },
          "metadata": {}
        },
        {
          "output_type": "stream",
          "name": "stdout",
          "text": [
            "ship frog horse horse\n"
          ]
        }
      ],
      "source": [
        "def imshow(img):\n",
        "    img = img / 2 + 0.5\n",
        "    npimg = img.numpy()\n",
        "    plt.imshow(np.transpose(npimg, (1, 2, 0)))\n",
        "    plt.show()\n",
        "\n",
        "\n",
        "dataiter = iter(train_loader)\n",
        "images, labels = next(dataiter)\n",
        "\n",
        "imshow(torchvision.utils.make_grid(images[:4]))\n",
        "\n",
        "classes = ('plane', 'car', 'bird', 'cat',\n",
        "           'deer', 'dog', 'frog', 'horse', 'ship', 'truck')\n",
        "print(*[classes[labels[i]] for i in range(4)])"
      ]
    },
    {
      "cell_type": "markdown",
      "metadata": {
        "id": "KFDilng29YZ_",
        "pycharm": {
          "name": "#%% md\n"
        }
      },
      "source": [
        "## 1. Задание сверточной сети (3 балла)"
      ]
    },
    {
      "cell_type": "markdown",
      "metadata": {
        "id": "OX7Ul8YbYdQR",
        "pycharm": {
          "name": "#%% md\n"
        }
      },
      "source": [
        "Теперь нам нужно задать сверточную нейронную сеть, которую мы будем обучать классифицировать изображения.\n",
        "\n",
        "Используем сеть, основанную на одном блоке архитектуры ResNet.\n",
        "\n",
        "<img src=\"https://i.ibb.co/2hg962h/basic-block.png\" width=\"500\"/>\n",
        "\n",
        "__Указания:__\n",
        "\n",
        "- Все сверточные слои должны иметь 32 выходных канала, а также не должны изменять ширину и высоту изображения.\n",
        "- Выход блока сократите до размерности 32х4х4, применив average pooling.\n",
        "- Для получения итоговых логитов, распрямите выход пулинга в вектор из 512 элементов, а затем пропустите его через линейный слой."
      ]
    },
    {
      "cell_type": "markdown",
      "metadata": {
        "id": "sbyIylT9O9Dr",
        "pycharm": {
          "name": "#%% md\n"
        }
      },
      "source": [
        "**Задание 1.1 (3 балла).**\n",
        "\n",
        "Определите архитектуру сети соответственно схеме и указаниям выше.\n",
        "\n",
        "Ключевые слова: <code>Conv2d</code>, <code>BatchNorm2d</code>, <code>AvgPool2d</code>."
      ]
    },
    {
      "cell_type": "code",
      "execution_count": 7,
      "metadata": {
        "id": "s9ml1QGKy6N9",
        "pycharm": {
          "name": "#%%\n"
        }
      },
      "outputs": [],
      "source": [
        "n_classes = 10\n",
        "\n",
        "class BasicBlockNet(nn.Module):\n",
        "    def __init__(self):\n",
        "        super().__init__()\n",
        "\n",
        "        # <your code here>\n",
        "        self.encoder = nn.Sequential(\n",
        "            nn.Conv2d(in_channels=3, out_channels=32, kernel_size=3, padding='same'),\n",
        "            nn.BatchNorm2d(num_features=32),\n",
        "            nn.ReLU(),\n",
        "            nn.Conv2d(in_channels=32, out_channels=32, kernel_size=3, padding='same'),\n",
        "            nn.BatchNorm2d(num_features=32),\n",
        "        )\n",
        "        self.conv1x1 = nn.Conv2d(in_channels=3, out_channels=32, kernel_size=1, padding='same')\n",
        "        self.out_block = nn.Sequential(\n",
        "            nn.ReLU(),\n",
        "            nn.AvgPool2d(8),\n",
        "            nn.Flatten(start_dim=1),\n",
        "            nn.Linear(in_features=512, out_features=10)\n",
        "        )\n",
        "\n",
        "    def forward(self, x):\n",
        "        out = self.encoder(x) + self.conv1x1(x)\n",
        "        out = self.out_block(out)\n",
        "        return out"
      ]
    },
    {
      "cell_type": "code",
      "execution_count": 8,
      "metadata": {
        "id": "FI4BQg7Ky6Pw",
        "pycharm": {
          "name": "#%%\n"
        },
        "colab": {
          "base_uri": "https://localhost:8080/"
        },
        "outputId": "2769ef6e-0911-452f-d043-fd59f299dcde"
      },
      "outputs": [
        {
          "output_type": "execute_result",
          "data": {
            "text/plain": [
              "BasicBlockNet(\n",
              "  (encoder): Sequential(\n",
              "    (0): Conv2d(3, 32, kernel_size=(3, 3), stride=(1, 1), padding=same)\n",
              "    (1): BatchNorm2d(32, eps=1e-05, momentum=0.1, affine=True, track_running_stats=True)\n",
              "    (2): ReLU()\n",
              "    (3): Conv2d(32, 32, kernel_size=(3, 3), stride=(1, 1), padding=same)\n",
              "    (4): BatchNorm2d(32, eps=1e-05, momentum=0.1, affine=True, track_running_stats=True)\n",
              "  )\n",
              "  (conv1x1): Conv2d(3, 32, kernel_size=(1, 1), stride=(1, 1), padding=same)\n",
              "  (out_block): Sequential(\n",
              "    (0): ReLU()\n",
              "    (1): AvgPool2d(kernel_size=8, stride=8, padding=0)\n",
              "    (2): Flatten(start_dim=1, end_dim=-1)\n",
              "    (3): Linear(in_features=512, out_features=10, bias=True)\n",
              "  )\n",
              ")"
            ]
          },
          "metadata": {},
          "execution_count": 8
        }
      ],
      "source": [
        "net = BasicBlockNet()\n",
        "net"
      ]
    },
    {
      "cell_type": "markdown",
      "metadata": {
        "id": "igPoGZEub8d3",
        "pycharm": {
          "name": "#%% md\n"
        }
      },
      "source": [
        "Проверим, что выход сети имеет корректную размерность:"
      ]
    },
    {
      "cell_type": "code",
      "execution_count": 9,
      "metadata": {
        "id": "cCIzFUpJ_Agw",
        "pycharm": {
          "name": "#%%\n"
        }
      },
      "outputs": [],
      "source": [
        "assert net(torch.zeros((10, 3, 32, 32))).shape == (10, 10)"
      ]
    },
    {
      "cell_type": "markdown",
      "metadata": {
        "id": "08osX622cDGz",
        "pycharm": {
          "name": "#%% md\n"
        }
      },
      "source": [
        "Чтобы проводить вычисления на GPU, в PyTorch необходимо руками перекладывать объекты, с которыми вы хотите проводить вычисления, на графический ускоритель. Это делается следующим образрм:"
      ]
    },
    {
      "cell_type": "code",
      "execution_count": 10,
      "metadata": {
        "id": "56hDOMCFcDZX",
        "pycharm": {
          "name": "#%%\n"
        },
        "colab": {
          "base_uri": "https://localhost:8080/"
        },
        "outputId": "cf9c541d-4d60-4617-89a4-377356317ceb"
      },
      "outputs": [
        {
          "output_type": "stream",
          "name": "stdout",
          "text": [
            "cuda:0\n"
          ]
        }
      ],
      "source": [
        "device = torch.device('cuda:0' if torch.cuda.is_available() else 'cpu')\n",
        "print(device)"
      ]
    },
    {
      "cell_type": "code",
      "execution_count": 11,
      "metadata": {
        "id": "ohnDWbp0qbtC",
        "pycharm": {
          "name": "#%%\n"
        }
      },
      "outputs": [],
      "source": [
        "net = net.to(device)"
      ]
    },
    {
      "cell_type": "markdown",
      "metadata": {
        "id": "H_bOlTVUp5QF",
        "pycharm": {
          "name": "#%% md\n"
        }
      },
      "source": [
        "Подключение GPU в google.colab:\n",
        "\n",
        "**Среда выполнения** -> **Сменить среду выполнения** -> **Аппаратный ускоритель** -> **GPU**"
      ]
    },
    {
      "cell_type": "markdown",
      "metadata": {
        "id": "AGi6XX_7_Bgg",
        "pycharm": {
          "name": "#%% md\n"
        }
      },
      "source": [
        "## 2. Обучение и тестирование модели (3 балла)"
      ]
    },
    {
      "cell_type": "markdown",
      "metadata": {
        "id": "0agj_MQoO9Ds",
        "pycharm": {
          "name": "#%% md\n"
        }
      },
      "source": [
        "**Задание 2.1 (2 балла).** Переходим к обучению модели. Заполните пропуски в функциях <code>test</code> и <code>train_epoch</code>. В качестве функции потерь будем использовать [кросс-энтропию](https://pytorch.org/docs/stable/generated/torch.nn.functional.cross_entropy.html), а в качестве метрики качества accuracy."
      ]
    },
    {
      "cell_type": "code",
      "execution_count": 12,
      "metadata": {
        "id": "g8gsPPRIevDS",
        "pycharm": {
          "name": "#%%\n"
        }
      },
      "outputs": [],
      "source": [
        "def test(model, loader):\n",
        "    loss_log = []\n",
        "    acc_log = []\n",
        "    model.eval()\n",
        "\n",
        "    criterion = nn.CrossEntropyLoss()\n",
        "\n",
        "    for data, target in loader:\n",
        "\n",
        "        # <your code here>\n",
        "        data = data.to(device)\n",
        "        target = target.to(device)\n",
        "        with torch.no_grad():\n",
        "          logits = model(data)\n",
        "          loss = criterion(logits, target)\n",
        "\n",
        "        acc = (logits.argmax(dim=1) == target).sum() / data.shape[0]\n",
        "\n",
        "        loss_log.append(loss.item())\n",
        "        acc_log.append(acc.item())\n",
        "\n",
        "    return np.mean(loss_log), np.mean(acc_log)\n",
        "\n",
        "def train_epoch(model, optimizer, train_loader):\n",
        "    loss_log = []\n",
        "    acc_log = []\n",
        "    model.train()\n",
        "\n",
        "    criterion = nn.CrossEntropyLoss()\n",
        "\n",
        "    for data, target in train_loader:\n",
        "      data = data.to(device)\n",
        "      target = target.to(device)\n",
        "\n",
        "      optimizer.zero_grad()\n",
        "      logits = model(data)\n",
        "      loss = criterion(logits, target)\n",
        "      loss.backward()\n",
        "      optimizer.step()\n",
        "\n",
        "      acc = (logits.argmax(dim=1) == target).sum() / data.shape[0]\n",
        "\n",
        "      loss_log.append(loss.item())\n",
        "      acc_log.append(acc.item())\n",
        "\n",
        "    return loss_log, acc_log\n",
        "\n",
        "def train(model, optimizer, n_epochs, train_loader, val_loader, scheduler=None):\n",
        "    train_loss_log, train_acc_log, val_loss_log, val_acc_log = [], [], [], []\n",
        "\n",
        "    for epoch in range(n_epochs):\n",
        "        train_loss, train_acc = train_epoch(model, optimizer, train_loader)\n",
        "        val_loss, val_acc = test(model, val_loader)\n",
        "\n",
        "        train_loss_log.extend(train_loss)\n",
        "        train_acc_log.extend(train_acc)\n",
        "\n",
        "        val_loss_log.append(val_loss)\n",
        "        val_acc_log.append(val_acc)\n",
        "\n",
        "        print(f\"Epoch {epoch}\")\n",
        "        print(f\" train loss: {np.mean(train_loss)}, train acc: {np.mean(train_acc)}\")\n",
        "        print(f\" val loss: {val_loss}, val acc: {val_acc}\\n\")\n",
        "\n",
        "        if scheduler is not None:\n",
        "            scheduler.step()\n",
        "\n",
        "    return train_loss_log, train_acc_log, val_loss_log, val_acc_log"
      ]
    },
    {
      "cell_type": "markdown",
      "metadata": {
        "id": "iSOqk_CAO9Dt",
        "pycharm": {
          "name": "#%% md\n"
        }
      },
      "source": [
        "Запустим обучение модели. В качестве оптимизатора будем использовать стохастический градиентный спуск, который является де-факто стандартом в задачах компьютерного зрения (наравне с <code>Adam</code>).\n",
        "\n",
        "__Замечание:__ Для достижения наилучшего качества в нашем случае потребуется обучать модель несколько сотен эпох. Однако в целях экономии вашего времени и сил, во всех экспериментах мы ограничимся 20 эпохами."
      ]
    },
    {
      "cell_type": "code",
      "execution_count": 13,
      "metadata": {
        "id": "MKZBGhuAgMDu",
        "scrolled": true,
        "pycharm": {
          "name": "#%%\n"
        },
        "colab": {
          "base_uri": "https://localhost:8080/"
        },
        "outputId": "940d4a91-e831-4e9a-9dc8-87f631ebbb5d"
      },
      "outputs": [
        {
          "output_type": "stream",
          "name": "stdout",
          "text": [
            "Epoch 0\n",
            " train loss: 1.4566026339801181, train acc: 0.4812042961608775\n",
            " val loss: 1.2043228598351174, val acc: 0.5747118795171697\n",
            "\n",
            "Epoch 1\n",
            " train loss: 1.1390924196574543, train acc: 0.6026336837294333\n",
            " val loss: 1.1269090632174878, val acc: 0.6150044327086591\n",
            "\n",
            "Epoch 2\n",
            " train loss: 1.0351295455936105, train acc: 0.6406698877458381\n",
            " val loss: 1.050078202815766, val acc: 0.6378989361702128\n",
            "\n",
            "Epoch 3\n",
            " train loss: 0.9814138267550215, train acc: 0.658106718464351\n",
            " val loss: 1.0604195845888016, val acc: 0.6353723404255319\n",
            "\n",
            "Epoch 4\n",
            " train loss: 0.9465176346533042, train acc: 0.6731808240060615\n",
            " val loss: 0.9814372252910695, val acc: 0.6600620569066799\n",
            "\n",
            "Epoch 5\n",
            " train loss: 0.9224761915163323, train acc: 0.6772982502114402\n",
            " val loss: 0.9527681984799974, val acc: 0.6724955675449777\n",
            "\n",
            "Epoch 6\n",
            " train loss: 0.8979060065811687, train acc: 0.688883357335706\n",
            " val loss: 1.0049283169685526, val acc: 0.6607047872340426\n",
            "\n",
            "Epoch 7\n",
            " train loss: 0.8764582944853432, train acc: 0.6945228845807273\n",
            " val loss: 0.9566124243939177, val acc: 0.674468085106383\n",
            "\n",
            "Epoch 8\n",
            " train loss: 0.8638084852281392, train acc: 0.6992646578896852\n",
            " val loss: 0.9635923083792342, val acc: 0.6656693263256803\n",
            "\n",
            "Epoch 9\n",
            " train loss: 0.8473785581165956, train acc: 0.7080789697671503\n",
            " val loss: 0.9352329046168226, val acc: 0.677437943346957\n",
            "\n",
            "Epoch 10\n",
            " train loss: 0.8349787436521031, train acc: 0.7101193196812757\n",
            " val loss: 0.9273827344813246, val acc: 0.6830452127659574\n",
            "\n",
            "Epoch 11\n",
            " train loss: 0.8228180703776846, train acc: 0.715603780375974\n",
            " val loss: 0.9051032949001231, val acc: 0.687344858240574\n",
            "\n",
            "Epoch 12\n",
            " train loss: 0.8122126973307329, train acc: 0.7191458279079668\n",
            " val loss: 0.9467316690911638, val acc: 0.6844858156873824\n",
            "\n",
            "Epoch 13\n",
            " train loss: 0.7998074928955796, train acc: 0.7238753591638597\n",
            " val loss: 0.9072866617365086, val acc: 0.6905806739279564\n",
            "\n",
            "Epoch 14\n",
            " train loss: 0.7935175294196148, train acc: 0.7234019979262483\n",
            " val loss: 0.8723409130218182, val acc: 0.704565602921425\n",
            "\n",
            "Epoch 15\n",
            " train loss: 0.7825410422176068, train acc: 0.7288742165678815\n",
            " val loss: 0.8668186560590216, val acc: 0.7054964539852548\n",
            "\n",
            "Epoch 16\n",
            " train loss: 0.7826483744371961, train acc: 0.7289843954813328\n",
            " val loss: 0.8719368229521082, val acc: 0.7037677305809995\n",
            "\n",
            "Epoch 17\n",
            " train loss: 0.7650749975410196, train acc: 0.7326162183960352\n",
            " val loss: 0.9355385945198383, val acc: 0.6851063829787234\n",
            "\n",
            "Epoch 18\n",
            " train loss: 0.7619447387223706, train acc: 0.7360399256458666\n",
            " val loss: 0.9675436894944374, val acc: 0.679565602921425\n",
            "\n",
            "Epoch 19\n",
            " train loss: 0.7544118001430519, train acc: 0.737557946001154\n",
            " val loss: 0.8712115911727256, val acc: 0.7039450356300841\n",
            "\n"
          ]
        }
      ],
      "source": [
        "optimizer = optim.SGD(net.parameters(), lr=0.1, momentum=0.9)\n",
        "train_loss_log, train_acc_log, val_loss_log, val_acc_log = train(net, optimizer, 20, train_loader, val_loader)"
      ]
    },
    {
      "cell_type": "markdown",
      "metadata": {
        "id": "gUb1jQW8O9Dt",
        "pycharm": {
          "name": "#%% md\n"
        }
      },
      "source": [
        "Посчитайте точность на тестовой выборке:"
      ]
    },
    {
      "cell_type": "code",
      "execution_count": 14,
      "metadata": {
        "id": "Jyuc55B9_Amc",
        "pycharm": {
          "name": "#%%\n"
        },
        "colab": {
          "base_uri": "https://localhost:8080/"
        },
        "outputId": "0e0cbeb7-fefc-4bd9-aa09-7fbea46eb4db"
      },
      "outputs": [
        {
          "output_type": "execute_result",
          "data": {
            "text/plain": [
              "(0.8868985400078403, 0.6961584394904459)"
            ]
          },
          "metadata": {},
          "execution_count": 14
        }
      ],
      "source": [
        "# <your code here>\n",
        "test(net, test_loader)"
      ]
    },
    {
      "cell_type": "markdown",
      "metadata": {
        "id": "zM38Q9fwO9Dt",
        "pycharm": {
          "name": "#%% md\n"
        }
      },
      "source": [
        "Если вы все сделали правильно, у вас должна была получиться точность $\\ge 67\\%$."
      ]
    },
    {
      "cell_type": "markdown",
      "metadata": {
        "id": "DHFNSKcoO9Dt",
        "pycharm": {
          "name": "#%% md\n"
        }
      },
      "source": [
        "**Задание 2.2 (1 балл).** Постройте графики зависимости функции потерь и точности классификации от номера шага оптимизатора. На каждом графике расположите данные и для обучающей и для валидационной выборки, итого у вас должно получиться два графика. Обратите внимание, что на обучающей выборке эти данные считаются по каждому батчу, на валидационной же они считаются по всей выборке раз в эпоху."
      ]
    },
    {
      "cell_type": "code",
      "execution_count": 23,
      "metadata": {
        "id": "LzIP0tGLO9Dt",
        "pycharm": {
          "name": "#%%\n"
        }
      },
      "outputs": [],
      "source": [
        "# <your code here>\n",
        "\n",
        "def plot_losses(train_losses, train_accs, val_losses, val_accs):\n",
        "    fig, axs = plt.subplots(1, 2, figsize=(13, 5))\n",
        "    axs[0].plot(range(1, len(train_losses) + 1), train_losses, label='train')\n",
        "    axs[0].plot(range(1, len(val_losses) + 1), val_losses, label='val')\n",
        "    axs[0].set_ylabel('loss')\n",
        "\n",
        "    axs[1].plot(range(1, len(train_accs) + 1), train_accs, label='train')\n",
        "    axs[1].plot(range(1, len(val_accs) + 1), val_accs, label='val')\n",
        "    axs[1].set_ylabel('accuracy')\n",
        "\n",
        "    for ax in axs:\n",
        "        ax.set_xlabel('epoch')\n",
        "        ax.legend()\n",
        "\n",
        "    plt.show()"
      ]
    },
    {
      "cell_type": "code",
      "source": [
        "epoch_num = 20\n",
        "epoch_size = int(np.ceil(len(train_loss_log) / 64))\n",
        "train_losses, train_accs = [], []\n",
        "\n",
        "for i in range(epoch_num):\n",
        "  loss_interval = train_loss_log[i * epoch_size: (i + 1) * epoch_size]\n",
        "  acc_interval = train_acc_log[i * epoch_size: (i + 1) * epoch_size]\n",
        "  train_losses.append(sum(loss_interval) / len(loss_interval))\n",
        "  train_accs.append(sum(acc_interval) / len(acc_interval))"
      ],
      "metadata": {
        "id": "kDSo6eo8_q-k"
      },
      "execution_count": 24,
      "outputs": []
    },
    {
      "cell_type": "code",
      "source": [
        "plot_losses(train_losses, train_accs, val_loss_log, val_acc_log)\n"
      ],
      "metadata": {
        "colab": {
          "base_uri": "https://localhost:8080/",
          "height": 465
        },
        "id": "SSAn5QQk_u1P",
        "outputId": "40839984-43a5-4411-9d4e-544bc72708e4"
      },
      "execution_count": 25,
      "outputs": [
        {
          "output_type": "display_data",
          "data": {
            "text/plain": [
              "<Figure size 1300x500 with 2 Axes>"
            ],
            "image/png": "[encoded data removed]"
          },
          "metadata": {}
        }
      ]
    },
    {
      "cell_type": "markdown",
      "metadata": {
        "id": "_ttOJPj-O9Dt",
        "pycharm": {
          "name": "#%% md\n"
        }
      },
      "source": [
        "## 3. Расписание длины шага (2 балла)"
      ]
    },
    {
      "cell_type": "markdown",
      "metadata": {
        "id": "qiz3JstuO9Dt",
        "pycharm": {
          "name": "#%% md\n"
        }
      },
      "source": [
        "С курса \"Машинное обучение 1\" вы уже должны знать, что сходимость стохастического градиентного спуска мы можем теоретически гарантировать только если будем определенным образом со временем уменьшать длину шага. На практике при обучении нейронных сетей такая техника оказывается очень полезной, однако теоретически обоснованными способами уменьшения длины шага фантазия не ограничивается.\n",
        "\n",
        "Одним из простейших способов является кусочно постоянная функция: на нескольких фиксированных эпохах уменьшаем длину шага в константу раз."
      ]
    },
    {
      "cell_type": "code",
      "execution_count": 27,
      "metadata": {
        "id": "V2Z0OT3nO9Du",
        "pycharm": {
          "name": "#%%\n"
        },
        "colab": {
          "base_uri": "https://localhost:8080/"
        },
        "outputId": "ab5a4890-b880-438b-fe60-15a752307b06"
      },
      "outputs": [
        {
          "output_type": "stream",
          "name": "stdout",
          "text": [
            "Epoch 0\n",
            " train loss: 1.469333851577159, train acc: 0.4746425307646966\n",
            " val loss: 1.306266861519915, val acc: 0.5343306739279564\n",
            "\n",
            "Epoch 1\n",
            " train loss: 1.1518441128120562, train acc: 0.5972716441102176\n",
            " val loss: 1.1557731430581275, val acc: 0.5980718085106383\n",
            "\n",
            "Epoch 2\n",
            " train loss: 1.0497366314178411, train acc: 0.6349161009030106\n",
            " val loss: 1.364073229343333, val acc: 0.5464982269926274\n",
            "\n",
            "Epoch 3\n",
            " train loss: 0.989399917709762, train acc: 0.6529813594094578\n",
            " val loss: 0.9915496448253064, val acc: 0.6601063829787234\n",
            "\n",
            "Epoch 4\n",
            " train loss: 0.9489894500598175, train acc: 0.6699448289993258\n",
            " val loss: 0.9822149152451373, val acc: 0.6591533688788719\n",
            "\n",
            "Epoch 5\n",
            " train loss: 0.9177695518219928, train acc: 0.6827337425849119\n",
            " val loss: 0.9930264779861937, val acc: 0.6621010638297873\n",
            "\n",
            "Epoch 6\n",
            " train loss: 0.897251108119867, train acc: 0.6878999085923218\n",
            " val loss: 0.9339426801559773, val acc: 0.6783244680851064\n",
            "\n",
            "Epoch 7\n",
            " train loss: 0.88117410419628, train acc: 0.6914011491717978\n",
            " val loss: 0.9259660784234391, val acc: 0.6828900710065314\n",
            "\n",
            "Epoch 8\n",
            " train loss: 0.8606040932142757, train acc: 0.700745951976811\n",
            " val loss: 0.9108485703772687, val acc: 0.6845079787234043\n",
            "\n",
            "Epoch 9\n",
            " train loss: 0.8497719165394032, train acc: 0.7044757117518995\n",
            " val loss: 0.8752362545500411, val acc: 0.7006427305809995\n",
            "\n",
            "Epoch 10\n",
            " train loss: 0.7404457312724272, train acc: 0.7445563463667847\n",
            " val loss: 0.8282476720657754, val acc: 0.7181072696726373\n",
            "\n",
            "Epoch 11\n",
            " train loss: 0.723773172830097, train acc: 0.7477188888371972\n",
            " val loss: 0.822691248198773, val acc: 0.7223404255319149\n",
            "\n",
            "Epoch 12\n",
            " train loss: 0.7183522084622322, train acc: 0.7511344346093521\n",
            " val loss: 0.8244565234539357, val acc: 0.7179521276595745\n",
            "\n",
            "Epoch 13\n",
            " train loss: 0.7142686512069248, train acc: 0.7513915187044161\n",
            " val loss: 0.8239387261106613, val acc: 0.7203679079705096\n",
            "\n",
            "Epoch 14\n",
            " train loss: 0.7086732827222325, train acc: 0.7536318230236688\n",
            " val loss: 0.8139219629003647, val acc: 0.7247340425531915\n",
            "\n",
            "Epoch 15\n",
            " train loss: 0.6944683063945561, train acc: 0.7602384761656878\n",
            " val loss: 0.8114231354378639, val acc: 0.7240913122258288\n",
            "\n",
            "Epoch 16\n",
            " train loss: 0.6935435678993762, train acc: 0.760348655079139\n",
            " val loss: 0.8103191396023365, val acc: 0.7250664893617021\n",
            "\n",
            "Epoch 17\n",
            " train loss: 0.6914471301779669, train acc: 0.7598263254113345\n",
            " val loss: 0.8102893615022618, val acc: 0.7259973404255319\n",
            "\n",
            "Epoch 18\n",
            " train loss: 0.6916744048133411, train acc: 0.7607567250401708\n",
            " val loss: 0.8118724289092611, val acc: 0.7251329787234042\n",
            "\n",
            "Epoch 19\n",
            " train loss: 0.6911108643633792, train acc: 0.7594427396653993\n",
            " val loss: 0.8104180620071736, val acc: 0.7259973404255319\n",
            "\n"
          ]
        }
      ],
      "source": [
        "net = BasicBlockNet().to(device)\n",
        "optimizer = optim.SGD(net.parameters(), lr=0.1, momentum=0.9)\n",
        "scheduler = optim.lr_scheduler.MultiStepLR(optimizer, milestones=[10, 15], gamma=0.1)\n",
        "tr_loss_log, tr_acc_log, val_loss_log, val_acc_log = train(net, optimizer, 20, train_loader, val_loader, scheduler)"
      ]
    },
    {
      "cell_type": "markdown",
      "metadata": {
        "id": "5Xc76KvzO9Du",
        "pycharm": {
          "name": "#%% md\n"
        }
      },
      "source": [
        "Посчитайте точность на тестовой выборке:"
      ]
    },
    {
      "cell_type": "code",
      "execution_count": 28,
      "metadata": {
        "id": "1AjiYhKqO9Du",
        "pycharm": {
          "name": "#%%\n"
        },
        "colab": {
          "base_uri": "https://localhost:8080/"
        },
        "outputId": "8bf70df2-41e7-4657-e042-6940a6746324"
      },
      "outputs": [
        {
          "output_type": "execute_result",
          "data": {
            "text/plain": [
              "(0.8220775281168093, 0.7179538216560509)"
            ]
          },
          "metadata": {},
          "execution_count": 28
        }
      ],
      "source": [
        "# <your code here>\n",
        "test(net, test_loader)"
      ]
    },
    {
      "cell_type": "markdown",
      "metadata": {
        "id": "yE0dgLYrO9Du",
        "pycharm": {
          "name": "#%% md\n"
        }
      },
      "source": [
        "**Задание 3.0 (0.5 баллов).** Здесь может возникнуть вопрос: а что будет, если мы не будем уменьшать длину шага в процессе обучения, а сразу возьмем констатную, равную значению нашей кусочно-постоянной функции на последних эпохах, то есть $0.001$ в нашем случае. Запустите обучение и проверьте, что в таком случае мы получим худшее качество на тестовой выборке."
      ]
    },
    {
      "cell_type": "code",
      "execution_count": 29,
      "metadata": {
        "id": "qZ2iB-LBO9Du",
        "pycharm": {
          "name": "#%%\n"
        },
        "colab": {
          "base_uri": "https://localhost:8080/"
        },
        "outputId": "1391cf6e-57b6-4be4-bb25-a05fdaa43281"
      },
      "outputs": [
        {
          "output_type": "stream",
          "name": "stdout",
          "text": [
            "Epoch 0\n",
            " train loss: 1.8587577988068409, train acc: 0.3467207495429616\n",
            " val loss: 1.638524952847907, val acc: 0.4319148936170213\n",
            "\n",
            "Epoch 1\n",
            " train loss: 1.5725996023558175, train acc: 0.44763645862094664\n",
            " val loss: 1.4883922627631654, val acc: 0.47788120571603165\n",
            "\n",
            "Epoch 2\n",
            " train loss: 1.4449266711798185, train acc: 0.49226707372630535\n",
            " val loss: 1.4081355906547384, val acc: 0.5047650710065315\n",
            "\n",
            "Epoch 3\n",
            " train loss: 1.3608318283963248, train acc: 0.5224887373460494\n",
            " val loss: 1.3144354211523177, val acc: 0.5402039007937655\n",
            "\n",
            "Epoch 4\n",
            " train loss: 1.2995769539524475, train acc: 0.5455977410023566\n",
            " val loss: 1.2577203732855777, val acc: 0.564516844013904\n",
            "\n",
            "Epoch 5\n",
            " train loss: 1.245686671633607, train acc: 0.5635038522741258\n",
            " val loss: 1.2148071885108949, val acc: 0.5783687944107867\n",
            "\n",
            "Epoch 6\n",
            " train loss: 1.2046702348336005, train acc: 0.581613998526411\n",
            " val loss: 1.2027916167644743, val acc: 0.5801640071767442\n",
            "\n",
            "Epoch 7\n",
            " train loss: 1.160368850941632, train acc: 0.5960719183332523\n",
            " val loss: 1.16085935983252, val acc: 0.5912677305809995\n",
            "\n",
            "Epoch 8\n",
            " train loss: 1.1255474296522752, train acc: 0.6108971011486088\n",
            " val loss: 1.1186291740295735, val acc: 0.6105274823117763\n",
            "\n",
            "Epoch 9\n",
            " train loss: 1.090183846148538, train acc: 0.6220374119347148\n",
            " val loss: 1.0713264546495802, val acc: 0.6236480497299357\n",
            "\n",
            "Epoch 10\n",
            " train loss: 1.0649744001995276, train acc: 0.6313291656251799\n",
            " val loss: 1.0565800390344986, val acc: 0.6305851063829787\n",
            "\n",
            "Epoch 11\n",
            " train loss: 1.0379075615018116, train acc: 0.6365279773253627\n",
            " val loss: 1.0388545031243182, val acc: 0.6358820922831272\n",
            "\n",
            "Epoch 12\n",
            " train loss: 1.0210762197182426, train acc: 0.6459829590438271\n",
            " val loss: 1.003547520333148, val acc: 0.6513519505237011\n",
            "\n",
            "Epoch 13\n",
            " train loss: 0.9997829459267081, train acc: 0.6539607273595207\n",
            " val loss: 1.0352702341181166, val acc: 0.6368794327086591\n",
            "\n",
            "Epoch 14\n",
            " train loss: 0.9860270431970112, train acc: 0.6574497258859318\n",
            " val loss: 0.9832667784487947, val acc: 0.6578235816448292\n",
            "\n",
            "Epoch 15\n",
            " train loss: 0.9699950372933034, train acc: 0.6637870527708553\n",
            " val loss: 0.9881840931608322, val acc: 0.6566267731341909\n",
            "\n",
            "Epoch 16\n",
            " train loss: 0.9596946436700698, train acc: 0.6682513385629741\n",
            " val loss: 0.97719436046925, val acc: 0.6615248228641266\n",
            "\n",
            "Epoch 17\n",
            " train loss: 0.9534373018597772, train acc: 0.6693531274795532\n",
            " val loss: 0.9576361514152365, val acc: 0.6683953901554676\n",
            "\n",
            "Epoch 18\n",
            " train loss: 0.9367883999779194, train acc: 0.6780205341754055\n",
            " val loss: 0.9601777013311995, val acc: 0.6653812058428501\n",
            "\n",
            "Epoch 19\n",
            " train loss: 0.9318632032361284, train acc: 0.6775594149908593\n",
            " val loss: 0.9348971772701182, val acc: 0.6758200356300841\n",
            "\n"
          ]
        }
      ],
      "source": [
        "# <your code here>\n",
        "net = BasicBlockNet().to(device)\n",
        "optimizer = optim.SGD(net.parameters(), lr=0.001, momentum=0.9)\n",
        "tr_loss_log, tr_acc_log, val_loss_log, val_acc_log = train(net, optimizer, 20, train_loader, val_loader)"
      ]
    },
    {
      "cell_type": "code",
      "source": [
        "test(net, test_loader)"
      ],
      "metadata": {
        "colab": {
          "base_uri": "https://localhost:8080/"
        },
        "id": "HLjiZU5_CmMj",
        "outputId": "1c791810-6aaa-4f49-bdac-8ee52d38cf7c"
      },
      "execution_count": 30,
      "outputs": [
        {
          "output_type": "execute_result",
          "data": {
            "text/plain": [
              "(0.9370032928551838, 0.6754578025477707)"
            ]
          },
          "metadata": {},
          "execution_count": 30
        }
      ]
    },
    {
      "cell_type": "markdown",
      "metadata": {
        "id": "xVotU378O9Du",
        "pycharm": {
          "name": "#%% md\n"
        }
      },
      "source": [
        "**Задание 3.1 (1.5 балла).** Изучите, какие еще способы уменьшения длины шага представлены в <code>torch.optim.lr_scheduler</code>. Выберите несколько из них, объясните, как они устроены, и обучите модель с ними. Удалось ли добиться улучшения качества на тестовой выборке?"
      ]
    },
    {
      "cell_type": "markdown",
      "source": [
        "[torch.optim.lr_scheduler.ExponentialLR](https://pytorch.org/docs/stable/generated/torch.optim.lr_scheduler.ExponentialLR.html#torch.optim.lr_scheduler.ExponentialLR):  Снижает скорость обучения каждой группы параметров по гамме каждую эпоху. Когда last_epoch=-1, устанавливает начальный lr как lr.\n",
        "\n",
        "$$lr_{epoch} = 𝐺𝑎𝑚𝑚𝑎 * lr_{epoch - 1}$$"
      ],
      "metadata": {
        "id": "39b0Ue5WE6Vo"
      }
    },
    {
      "cell_type": "code",
      "execution_count": 31,
      "metadata": {
        "id": "nkGlzocOO9Du",
        "pycharm": {
          "name": "#%%\n"
        },
        "colab": {
          "base_uri": "https://localhost:8080/"
        },
        "outputId": "340ad796-0491-43d8-9944-ec4ad86f78a8"
      },
      "outputs": [
        {
          "output_type": "stream",
          "name": "stdout",
          "text": [
            "Epoch 0\n",
            " train loss: 1.4739189907445331, train acc: 0.47423038001034334\n",
            " val loss: 1.3131545003424299, val acc: 0.5455895390916378\n",
            "\n",
            "Epoch 1\n",
            " train loss: 1.0999037733461565, train acc: 0.6170752807988545\n",
            " val loss: 1.100554889313718, val acc: 0.6150265957446809\n",
            "\n",
            "Epoch 2\n",
            " train loss: 1.04336554454929, train acc: 0.6362137634313957\n",
            " val loss: 1.057020444565631, val acc: 0.6333333335024245\n",
            "\n",
            "Epoch 3\n",
            " train loss: 1.0368588916562376, train acc: 0.6366708018226205\n",
            " val loss: 1.0552467381700557, val acc: 0.6341976952045522\n",
            "\n",
            "Epoch 4\n",
            " train loss: 1.034284079859418, train acc: 0.6394660812845178\n",
            " val loss: 1.0556243931993525, val acc: 0.633222517815042\n",
            "\n",
            "Epoch 5\n",
            " train loss: 1.03435561120837, train acc: 0.6386091343009712\n",
            " val loss: 1.055533228021987, val acc: 0.633754432708659\n",
            "\n",
            "Epoch 6\n",
            " train loss: 1.035943725863148, train acc: 0.6384050993204553\n",
            " val loss: 1.0557216717841778, val acc: 0.6333554965384462\n",
            "\n",
            "Epoch 7\n",
            " train loss: 1.0360101984449452, train acc: 0.6374134892083609\n",
            " val loss: 1.0555417971408114, val acc: 0.6328235816448293\n",
            "\n",
            "Epoch 8\n",
            " train loss: 1.0350453644391606, train acc: 0.6390294464240345\n",
            " val loss: 1.0556289102168794, val acc: 0.6344193263256803\n",
            "\n",
            "Epoch 9\n",
            " train loss: 1.0348282260258412, train acc: 0.6374216505770709\n",
            " val loss: 1.0554049877410239, val acc: 0.6341533688788719\n",
            "\n",
            "Epoch 10\n",
            " train loss: 1.0355164802052639, train acc: 0.6385397623400365\n",
            " val loss: 1.0548992950865563, val acc: 0.6347296100981692\n",
            "\n",
            "Epoch 11\n",
            " train loss: 1.034761183113677, train acc: 0.639066172692196\n",
            " val loss: 1.0564723141649937, val acc: 0.6341976952045522\n",
            "\n",
            "Epoch 12\n",
            " train loss: 1.0350379209413825, train acc: 0.6389641551474549\n",
            " val loss: 1.0555648948283907, val acc: 0.6342198582405739\n",
            "\n",
            "Epoch 13\n",
            " train loss: 1.0340273404252158, train acc: 0.6391477867061957\n",
            " val loss: 1.0552506378356448, val acc: 0.6343971632896586\n",
            "\n",
            "Epoch 14\n",
            " train loss: 1.0340586707840453, train acc: 0.6392089971894538\n",
            " val loss: 1.0556164241851644, val acc: 0.6336214539852548\n",
            "\n",
            "Epoch 15\n",
            " train loss: 1.0345071420155234, train acc: 0.6402250914076782\n",
            " val loss: 1.0547646875077106, val acc: 0.6342863476022761\n",
            "\n",
            "Epoch 16\n",
            " train loss: 1.0365772469605998, train acc: 0.638233709923746\n",
            " val loss: 1.0553628120016545, val acc: 0.6342863476022761\n",
            "\n",
            "Epoch 17\n",
            " train loss: 1.0351826254366956, train acc: 0.6374134892083609\n",
            " val loss: 1.0550082511090217, val acc: 0.6346187944107867\n",
            "\n",
            "Epoch 18\n",
            " train loss: 1.0358447077287398, train acc: 0.6391110603290676\n",
            " val loss: 1.05628643010525, val acc: 0.6344858156873825\n",
            "\n",
            "Epoch 19\n",
            " train loss: 1.0353593230247498, train acc: 0.6374991839067156\n",
            " val loss: 1.0553454310336012, val acc: 0.633687943346957\n",
            "\n"
          ]
        }
      ],
      "source": [
        "# <your code here>\n",
        "net = BasicBlockNet().to(device)\n",
        "optimizer = optim.SGD(net.parameters(), lr=0.1, momentum=0.9)\n",
        "scheduler = torch.optim.lr_scheduler.ExponentialLR(optimizer, gamma=0.1)\n",
        "tr_loss_log, tr_acc_log, val_loss_log, val_acc_log = train(net, optimizer, 20, train_loader, val_loader, scheduler)"
      ]
    },
    {
      "cell_type": "code",
      "source": [
        "test_loss, test_acc = test(net, test_loader)\n",
        "test_loss, test_acc"
      ],
      "metadata": {
        "colab": {
          "base_uri": "https://localhost:8080/"
        },
        "id": "6_w0B1WpGg_6",
        "outputId": "5f4165e3-691b-4094-c252-b0de7844a2dc"
      },
      "execution_count": 32,
      "outputs": [
        {
          "output_type": "execute_result",
          "data": {
            "text/plain": [
              "(1.0624074814425912, 0.626890923566879)"
            ]
          },
          "metadata": {},
          "execution_count": 32
        }
      ]
    },
    {
      "cell_type": "markdown",
      "source": [
        "При использовании ExponentialLR качество ухудшилось, хуже чем вообще без scheduler\n"
      ],
      "metadata": {
        "id": "FunJNYlhGm1s"
      }
    },
    {
      "cell_type": "markdown",
      "source": [
        "[torch.optim.lr_scheduler.PolynomialLR](https://pytorch.org/docs/stable/generated/torch.optim.lr_scheduler.PolynomialLR.html#torch.optim.lr_scheduler.PolynomialLR): Уменьшает lr для каждой группы параметров, используя полиномиальную функцию в заданном total_iters.\n",
        "\n",
        "Когда last_epoch=-1, задает начальное значение lr как lr."
      ],
      "metadata": {
        "id": "RJ4XQ0MBG38G"
      }
    },
    {
      "cell_type": "code",
      "source": [
        "net = BasicBlockNet().to(device)\n",
        "optimizer = optim.SGD(net.parameters(), lr=0.1, momentum=0.9)\n",
        "scheduler = optim.lr_scheduler.PolynomialLR(optimizer, total_iters=20)\n",
        "tr_loss_log, tr_acc_log, val_loss_log, val_acc_log = train(net, optimizer, 20, train_loader, val_loader, scheduler)"
      ],
      "metadata": {
        "colab": {
          "base_uri": "https://localhost:8080/"
        },
        "id": "wcr-g-i5I14i",
        "outputId": "a75bdf38-0f6b-4201-bc9e-605265202781"
      },
      "execution_count": 33,
      "outputs": [
        {
          "output_type": "stream",
          "name": "stdout",
          "text": [
            "Epoch 0\n",
            " train loss: 1.5031307156604647, train acc: 0.46274320974646366\n",
            " val loss: 1.3229766632648225, val acc: 0.537455673801138\n",
            "\n",
            "Epoch 1\n",
            " train loss: 1.2181320720006605, train acc: 0.5703390246117572\n",
            " val loss: 1.1360592507301492, val acc: 0.6065381206096487\n",
            "\n",
            "Epoch 2\n",
            " train loss: 1.0952111753946685, train acc: 0.6197481392942356\n",
            " val loss: 1.062204312263651, val acc: 0.6249335106382978\n",
            "\n",
            "Epoch 3\n",
            " train loss: 1.0228337477722378, train acc: 0.6454728715380541\n",
            " val loss: 1.062105966628866, val acc: 0.6299423759287976\n",
            "\n",
            "Epoch 4\n",
            " train loss: 0.9741589030356468, train acc: 0.6580373466123829\n",
            " val loss: 0.9916083942068384, val acc: 0.6537012412192974\n",
            "\n",
            "Epoch 5\n",
            " train loss: 0.9368878876487341, train acc: 0.6757312614259597\n",
            " val loss: 0.9891235014225574, val acc: 0.6579122340425532\n",
            "\n",
            "Epoch 6\n",
            " train loss: 0.9068996537973938, train acc: 0.6854555694015196\n",
            " val loss: 0.9720600605010986, val acc: 0.6627659574468086\n",
            "\n",
            "Epoch 7\n",
            " train loss: 0.8828632470894557, train acc: 0.6939311831699211\n",
            " val loss: 0.9149484789117853, val acc: 0.6822916667512122\n",
            "\n",
            "Epoch 8\n",
            " train loss: 0.8672143978218274, train acc: 0.6982893706239773\n",
            " val loss: 0.9427930266299146, val acc: 0.6745345744680851\n",
            "\n",
            "Epoch 9\n",
            " train loss: 0.8438805525329038, train acc: 0.7059202794618973\n",
            " val loss: 0.9389860457562386, val acc: 0.6773271276595745\n",
            "\n",
            "Epoch 10\n",
            " train loss: 0.8245159667087429, train acc: 0.7149427070042333\n",
            " val loss: 0.8786972743399599, val acc: 0.7006427305809995\n",
            "\n",
            "Epoch 11\n",
            " train loss: 0.8117662703097411, train acc: 0.7180358775137111\n",
            " val loss: 0.8937064716156493, val acc: 0.6960549646235527\n",
            "\n",
            "Epoch 12\n",
            " train loss: 0.794947922011834, train acc: 0.7231734787306359\n",
            " val loss: 0.8723603403314631, val acc: 0.7\n",
            "\n",
            "Epoch 13\n",
            " train loss: 0.7771997369512561, train acc: 0.7332976952985174\n",
            " val loss: 0.8557339868646987, val acc: 0.7089539007937654\n",
            "\n",
            "Epoch 14\n",
            " train loss: 0.7637074779875753, train acc: 0.7355828872546417\n",
            " val loss: 0.8945934678645844, val acc: 0.691622340425532\n",
            "\n",
            "Epoch 15\n",
            " train loss: 0.750142128528581, train acc: 0.7409163620833723\n",
            " val loss: 0.8462037408605535, val acc: 0.7109707446808511\n",
            "\n",
            "Epoch 16\n",
            " train loss: 0.7340888189223392, train acc: 0.7467517629401993\n",
            " val loss: 0.8399420266455793, val acc: 0.7132092199427016\n",
            "\n",
            "Epoch 17\n",
            " train loss: 0.7219757995069354, train acc: 0.7507263646483203\n",
            " val loss: 0.8379240912325838, val acc: 0.7140735816448293\n",
            "\n",
            "Epoch 18\n",
            " train loss: 0.7080995837665781, train acc: 0.7549825346666019\n",
            " val loss: 0.8360782171817536, val acc: 0.7167996454746165\n",
            "\n",
            "Epoch 19\n",
            " train loss: 0.6960836601540636, train acc: 0.7598712131571727\n",
            " val loss: 0.819838175114165, val acc: 0.7215868795171697\n",
            "\n"
          ]
        }
      ]
    },
    {
      "cell_type": "code",
      "source": [
        "test(net, test_loader)"
      ],
      "metadata": {
        "colab": {
          "base_uri": "https://localhost:8080/"
        },
        "id": "YM2IEwzwJC9t",
        "outputId": "cb0cfa73-3336-4ebf-a592-1a0e95ec5d0d"
      },
      "execution_count": 34,
      "outputs": [
        {
          "output_type": "execute_result",
          "data": {
            "text/plain": [
              "(0.8305980477743088, 0.7120820063694268)"
            ]
          },
          "metadata": {},
          "execution_count": 34
        }
      ]
    },
    {
      "cell_type": "markdown",
      "source": [
        "Пока лучше всех, кроме MultiStepLR, но результат довольно сравнимое с MultiStepLR."
      ],
      "metadata": {
        "id": "WvnZjCPjK5bh"
      }
    },
    {
      "cell_type": "markdown",
      "metadata": {
        "id": "5a_zMNNVO9Du",
        "pycharm": {
          "name": "#%% md\n"
        }
      },
      "source": [
        "[torch.optim.lr_scheduler.CyclicLR](https://pytorch.org/docs/stable/generated/torch.optim.lr_scheduler.CyclicLR.html#torch.optim.lr_scheduler.CyclicLR): Устанавливает lr  в соответствии с политикой циклической скорости обучения (cyclical learning rate policy).\n",
        "Политика регулирует lr между двумя границами с постоянной частотой.\n",
        "\n",
        "Этот класс имеет три встроенных политики: “triangular”, “triangular2,\n",
        " \"exp_range”. По дефолту- “triangular”: Базовый треугольный цикл-сначала постоянно возрастает, а потом убывает."
      ]
    },
    {
      "cell_type": "code",
      "source": [
        "net = BasicBlockNet().to(device)\n",
        "optimizer = optim.SGD(net.parameters(), lr=0.1, momentum=0.9)\n",
        "scheduler = optim.lr_scheduler.CyclicLR(optimizer, base_lr=0.001, max_lr=0.2)\n",
        "tr_loss_log, tr_acc_log, val_loss_log, val_acc_log = train(net, optimizer, 20, train_loader, val_loader, scheduler)"
      ],
      "metadata": {
        "colab": {
          "base_uri": "https://localhost:8080/"
        },
        "id": "Qs18rShVNLsN",
        "outputId": "a0b9ef7e-3558-4a3b-d138-2403bb69b880"
      },
      "execution_count": 36,
      "outputs": [
        {
          "output_type": "stream",
          "name": "stdout",
          "text": [
            "Epoch 0\n",
            " train loss: 1.8221169381080642, train acc: 0.35725711675623\n",
            " val loss: 1.6080144598128947, val acc: 0.43377659574468086\n",
            "\n",
            "Epoch 1\n",
            " train loss: 1.517293324418216, train acc: 0.46643216246006913\n",
            " val loss: 1.4254622215920307, val acc: 0.49829343975858487\n",
            "\n",
            "Epoch 2\n",
            " train loss: 1.3984817839627728, train acc: 0.5068596566616944\n",
            " val loss: 1.3388470883065082, val acc: 0.5292109929500742\n",
            "\n",
            "Epoch 3\n",
            " train loss: 1.3177644572266713, train acc: 0.5399663751260454\n",
            " val loss: 1.2720011335738162, val acc: 0.5530585106382979\n",
            "\n",
            "Epoch 4\n",
            " train loss: 1.2495892791033227, train acc: 0.5643036694587693\n",
            " val loss: 1.2267354414818135, val acc: 0.568062943346957\n",
            "\n",
            "Epoch 5\n",
            " train loss: 1.1942365189139106, train acc: 0.5824709455099577\n",
            " val loss: 1.1505051602708531, val acc: 0.5999778369639782\n",
            "\n",
            "Epoch 6\n",
            " train loss: 1.1376425596652127, train acc: 0.6035518413052045\n",
            " val loss: 1.118107733067046, val acc: 0.6104388297872341\n",
            "\n",
            "Epoch 7\n",
            " train loss: 1.097648557078032, train acc: 0.6180301645338209\n",
            " val loss: 1.1005463136003373, val acc: 0.6221852837724888\n",
            "\n",
            "Epoch 8\n",
            " train loss: 1.0658460660434075, train acc: 0.6280401215038962\n",
            " val loss: 1.0809204289253722, val acc: 0.6215647163543295\n",
            "\n",
            "Epoch 9\n",
            " train loss: 1.0386738644221583, train acc: 0.6378174784850377\n",
            " val loss: 1.0168369775122785, val acc: 0.6464982269926274\n",
            "\n",
            "Epoch 10\n",
            " train loss: 1.0130317035715148, train acc: 0.6464481588037619\n",
            " val loss: 1.0211563112887931, val acc: 0.645345744680851\n",
            "\n",
            "Epoch 11\n",
            " train loss: 0.9914276447331012, train acc: 0.656560133209612\n",
            " val loss: 0.9966827745133258, val acc: 0.6511081561129144\n",
            "\n",
            "Epoch 12\n",
            " train loss: 0.9678688253083656, train acc: 0.6665129603807843\n",
            " val loss: 0.9717621382246626, val acc: 0.6646941489361702\n",
            "\n",
            "Epoch 13\n",
            " train loss: 0.9563032795131969, train acc: 0.6677779773253627\n",
            " val loss: 0.9721039931824866, val acc: 0.658843085106383\n",
            "\n",
            "Epoch 14\n",
            " train loss: 0.9377931903441602, train acc: 0.6736827501431244\n",
            " val loss: 0.960773731546199, val acc: 0.6616356382978723\n",
            "\n",
            "Epoch 16\n",
            " train loss: 0.909565609486491, train acc: 0.6844598786050702\n",
            " val loss: 0.9251434430162957, val acc: 0.6797429079705096\n",
            "\n",
            "Epoch 17\n",
            " train loss: 0.903065708590164, train acc: 0.6865900040108718\n",
            " val loss: 0.9341901025873549, val acc: 0.675288120736467\n",
            "\n",
            "Epoch 18\n",
            " train loss: 0.8875224780992791, train acc: 0.6908420933447983\n",
            " val loss: 0.904593940491372, val acc: 0.6837987590343394\n",
            "\n",
            "Epoch 19\n",
            " train loss: 0.8781444079479308, train acc: 0.6972243079755598\n",
            " val loss: 0.9032434978383652, val acc: 0.6849290781832756\n",
            "\n"
          ]
        }
      ]
    },
    {
      "cell_type": "code",
      "source": [
        "test(net, test_loader)"
      ],
      "metadata": {
        "colab": {
          "base_uri": "https://localhost:8080/"
        },
        "id": "W11AnNNVTFZV",
        "outputId": "05598556-1406-4cd7-862e-65930806effc"
      },
      "execution_count": 37,
      "outputs": [
        {
          "output_type": "execute_result",
          "data": {
            "text/plain": [
              "(0.9127425224917709, 0.6875)"
            ]
          },
          "metadata": {},
          "execution_count": 37
        }
      ]
    },
    {
      "cell_type": "markdown",
      "source": [
        "При использовании CyclicLR(“triangular”) качество не удалось улучшить."
      ],
      "metadata": {
        "id": "6ppYCL9-UwTS"
      }
    },
    {
      "cell_type": "markdown",
      "metadata": {
        "id": "7xFXgl_3_E--",
        "pycharm": {
          "name": "#%% md\n"
        }
      },
      "source": [
        "## 4. Аугментации данных (2 балла)"
      ]
    },
    {
      "cell_type": "markdown",
      "metadata": {
        "id": "5G0Easo9O9Du",
        "pycharm": {
          "name": "#%% md\n"
        }
      },
      "source": [
        "Еще одной стандартной техникой, применяющейся в глубинном обучении, а особенно часто в компьютерном зрении, являются аугментации данных. Суть аугментаций состоит в том, что мы можем некоторым синтетическим образом видоизменять объекты обучающей выборки, тем самым расширяя ее, а также делая итоговую модель более устойчивой к таким изменениям.\n",
        "\n",
        "Простейшая аугментация, которую можно применить к картинкам — разворот картинки по горизонтальной оси. То есть при обучении модели с вероятностью $0.5$ мы будем разворачивать картинку из обучающей выборки."
      ]
    },
    {
      "cell_type": "code",
      "execution_count": 39,
      "metadata": {
        "id": "SzeFpgtfO9Du",
        "pycharm": {
          "name": "#%%\n"
        },
        "colab": {
          "base_uri": "https://localhost:8080/",
          "height": 369
        },
        "outputId": "84844c12-e9f8-49b2-ee49-244d45cb0f42"
      },
      "outputs": [
        {
          "output_type": "display_data",
          "data": {
            "text/plain": [
              "<Figure size 640x480 with 1 Axes>"
            ],
            "image/png": "[encoded data removed]"
          },
          "metadata": {}
        },
        {
          "output_type": "display_data",
          "data": {
            "text/plain": [
              "<Figure size 640x480 with 1 Axes>"
            ],
            "image/png": "[encoded data removed]"
          },
          "metadata": {}
        }
      ],
      "source": [
        "dataiter = iter(train_loader)\n",
        "images, labels = next(dataiter)\n",
        "\n",
        "imshow(torchvision.utils.make_grid(images[:4]))\n",
        "\n",
        "imshow(torchvision.utils.make_grid(transforms.functional.hflip(images[:4])))"
      ]
    },
    {
      "cell_type": "markdown",
      "metadata": {
        "id": "BR4a-XJQO9Du",
        "pycharm": {
          "name": "#%% md\n"
        }
      },
      "source": [
        "Наиболее удобным способом работы с аугментациями в PyTorch является их задание в списке <code>transforms</code>, который затем передается в загрузчик данных. Обучим нашу сеть, применяя горизонтальные повороты:"
      ]
    },
    {
      "cell_type": "code",
      "execution_count": 40,
      "metadata": {
        "id": "na0ScBf-_AqX",
        "scrolled": true,
        "pycharm": {
          "name": "#%%\n"
        },
        "colab": {
          "base_uri": "https://localhost:8080/"
        },
        "outputId": "cfb28a6f-d508-40aa-b9c7-f11ef9344794"
      },
      "outputs": [
        {
          "output_type": "stream",
          "name": "stdout",
          "text": [
            "Files already downloaded and verified\n",
            "Files already downloaded and verified\n",
            "Epoch 0\n",
            " train loss: 1.4854470428208764, train acc: 0.47007214685244797\n",
            " val loss: 1.2978867754023127, val acc: 0.5353058510638298\n",
            "\n",
            "Epoch 1\n",
            " train loss: 1.1930819816301683, train acc: 0.5790839645282878\n",
            " val loss: 1.1466849808997297, val acc: 0.5992907801841167\n",
            "\n",
            "Epoch 2\n",
            " train loss: 1.0641718191900027, train acc: 0.628187026685509\n",
            " val loss: 1.0693118453025818, val acc: 0.6333333335024245\n",
            "\n",
            "Epoch 3\n",
            " train loss: 1.000170957235793, train acc: 0.6506880060846234\n",
            " val loss: 0.9912174894454632, val acc: 0.6588652483960415\n",
            "\n",
            "Epoch 4\n",
            " train loss: 0.9562927338497295, train acc: 0.6683615173674589\n",
            " val loss: 0.993888141500189, val acc: 0.6553413122258288\n",
            "\n",
            "Epoch 5\n",
            " train loss: 0.9209189772387963, train acc: 0.6800159963436929\n",
            " val loss: 0.9299064983712866, val acc: 0.6726507093044037\n",
            "\n",
            "Epoch 6\n",
            " train loss: 0.9070361798707485, train acc: 0.687793810472192\n",
            " val loss: 0.9571355360619566, val acc: 0.6675975178150421\n",
            "\n",
            "Epoch 7\n",
            " train loss: 0.8933693852677423, train acc: 0.6909277879341865\n",
            " val loss: 0.8800262747926915, val acc: 0.6958554965384462\n",
            "\n",
            "Epoch 8\n",
            " train loss: 0.879147467055312, train acc: 0.6963102311931101\n",
            " val loss: 0.8951927116576661, val acc: 0.6945921986661059\n",
            "\n",
            "Epoch 9\n",
            " train loss: 0.8572512324592967, train acc: 0.7041329329584809\n",
            " val loss: 0.8716836821525655, val acc: 0.7040558510638298\n",
            "\n",
            "Epoch 10\n",
            " train loss: 0.7649964259246149, train acc: 0.7389576260742802\n",
            " val loss: 0.799761175475222, val acc: 0.7296320922831272\n",
            "\n",
            "Epoch 11\n",
            " train loss: 0.7524543517359432, train acc: 0.7405613411279222\n",
            " val loss: 0.7933259977939281, val acc: 0.7306959220703612\n",
            "\n",
            "Epoch 12\n",
            " train loss: 0.7454422667104975, train acc: 0.743699399383238\n",
            " val loss: 0.791383222062537, val acc: 0.7303856382978723\n",
            "\n",
            "Epoch 13\n",
            " train loss: 0.7409124646260926, train acc: 0.7453316793363317\n",
            " val loss: 0.7835770097184689, val acc: 0.7320700356300841\n",
            "\n",
            "Epoch 14\n",
            " train loss: 0.7389305157134041, train acc: 0.7463028859176845\n",
            " val loss: 0.7900129819169958, val acc: 0.7290780143534884\n",
            "\n",
            "Epoch 15\n",
            " train loss: 0.7253889887707761, train acc: 0.7508855119919646\n",
            " val loss: 0.7796155779919726, val acc: 0.7359264186088075\n",
            "\n",
            "Epoch 16\n",
            " train loss: 0.7224451189067289, train acc: 0.7514404871346092\n",
            " val loss: 0.7755811214447021, val acc: 0.735128546268382\n",
            "\n",
            "Epoch 17\n",
            " train loss: 0.722243560896931, train acc: 0.7522199007885112\n",
            " val loss: 0.7791455986651968, val acc: 0.7342420212765958\n",
            "\n",
            "Epoch 18\n",
            " train loss: 0.7211730336358386, train acc: 0.7517669430816414\n",
            " val loss: 0.7784838453252265, val acc: 0.7345523050490846\n",
            "\n",
            "Epoch 19\n",
            " train loss: 0.7211051655207953, train acc: 0.7522403043192527\n",
            " val loss: 0.7765415587323777, val acc: 0.7355053191489361\n",
            "\n"
          ]
        }
      ],
      "source": [
        "transform = transforms.Compose(\n",
        "        [transforms.RandomHorizontalFlip(),\n",
        "         transforms.ToTensor(),\n",
        "         transforms.Normalize((0.5, 0.5, 0.5), (0.5, 0.5, 0.5))]\n",
        ")\n",
        "\n",
        "train_loader, val_loader, test_loader = get_cifar10_data(batch_size=64, transform_train=transform)\n",
        "\n",
        "net = BasicBlockNet().to(device)\n",
        "optimizer = optim.SGD(net.parameters(), lr=0.1, momentum=0.9)\n",
        "scheduler = optim.lr_scheduler.MultiStepLR(optimizer, milestones=[10, 15], gamma=0.1)\n",
        "tr_loss_log, tr_acc_log, val_loss_log, val_acc_log = train(net, optimizer, 20, train_loader, val_loader, scheduler)"
      ]
    },
    {
      "cell_type": "markdown",
      "metadata": {
        "id": "v3ZIqDQqO9Dv",
        "pycharm": {
          "name": "#%% md\n"
        }
      },
      "source": [
        "Посчитайте точность на тестовой выборке:"
      ]
    },
    {
      "cell_type": "code",
      "execution_count": 41,
      "metadata": {
        "id": "nNJizMkM_Auh",
        "pycharm": {
          "name": "#%%\n"
        },
        "colab": {
          "base_uri": "https://localhost:8080/"
        },
        "outputId": "5b410917-1989-427d-8d29-3b8ba01ef86b"
      },
      "outputs": [
        {
          "output_type": "execute_result",
          "data": {
            "text/plain": [
              "(0.7908877354518623, 0.7298964968152867)"
            ]
          },
          "metadata": {},
          "execution_count": 41
        }
      ],
      "source": [
        "# <your code here>\n",
        "test(net, test_loader)"
      ]
    },
    {
      "cell_type": "markdown",
      "metadata": {
        "id": "KndehSCHO9Dv",
        "pycharm": {
          "name": "#%% md\n"
        }
      },
      "source": [
        "**Задание 4.1 (2 балла).** Изучите, какие еще способы аугментаций изображений представлены в <code>torchvision.transforms</code>. Выберите несколько из них, объясните, как они устроены, и обучите модель с ними (по отдельности и вместе). Удалось ли добиться улучшения качества на тестовой выборке?"
      ]
    },
    {
      "cell_type": "markdown",
      "source": [
        "transforms.RandomRotation: Повернить вход на указанный угол."
      ],
      "metadata": {
        "id": "pcciac96MAnS"
      }
    },
    {
      "cell_type": "code",
      "execution_count": 42,
      "metadata": {
        "id": "Np4rgvdZ_QRF",
        "pycharm": {
          "name": "#%%\n"
        },
        "colab": {
          "base_uri": "https://localhost:8080/"
        },
        "outputId": "c3f2691b-0cd0-41e0-f3ee-195a1c29d28e"
      },
      "outputs": [
        {
          "output_type": "stream",
          "name": "stdout",
          "text": [
            "Files already downloaded and verified\n",
            "Files already downloaded and verified\n",
            "Epoch 0\n",
            " train loss: 1.7858094406302276, train acc: 0.3609501502631569\n",
            " val loss: 1.6584999885964902, val acc: 0.4057845744680851\n",
            "\n",
            "Epoch 1\n",
            " train loss: 1.6188120709040918, train acc: 0.42208311571935414\n",
            " val loss: 1.5641619499693526, val acc: 0.4368794327086591\n",
            "\n",
            "Epoch 2\n",
            " train loss: 1.535197303543579, train acc: 0.4552061569756084\n",
            " val loss: 1.5077519817555205, val acc: 0.4607712765957447\n",
            "\n",
            "Epoch 3\n",
            " train loss: 1.4795211263722867, train acc: 0.4754423479493401\n",
            " val loss: 1.4591134497459899, val acc: 0.4818040780564572\n",
            "\n",
            "Epoch 4\n",
            " train loss: 1.436474242201671, train acc: 0.4884720227836037\n",
            " val loss: 1.445006746434151, val acc: 0.49151152486496785\n",
            "\n",
            "Epoch 5\n",
            " train loss: 1.4077714666370065, train acc: 0.5043377840322811\n",
            " val loss: 1.381541844631763, val acc: 0.5094193263256803\n",
            "\n",
            "Epoch 6\n",
            " train loss: 1.382043414839443, train acc: 0.5117768999972335\n",
            " val loss: 1.4080961998472823, val acc: 0.5032358156873825\n",
            "\n",
            "Epoch 7\n",
            " train loss: 1.368792421748041, train acc: 0.5135846500858746\n",
            " val loss: 1.3251529490694087, val acc: 0.530097517815042\n",
            "\n",
            "Epoch 8\n",
            " train loss: 1.3567416183037557, train acc: 0.5210033625745686\n",
            " val loss: 1.3938321032422654, val acc: 0.516378546268382\n",
            "\n",
            "Epoch 9\n",
            " train loss: 1.3407000187764002, train acc: 0.5257818621516882\n",
            " val loss: 1.3362098828275153, val acc: 0.5262411348363186\n",
            "\n",
            "Epoch 10\n",
            " train loss: 1.2509047326919585, train acc: 0.5586029316215236\n",
            " val loss: 1.2377969041783758, val acc: 0.5642730497299356\n",
            "\n",
            "Epoch 11\n",
            " train loss: 1.2328339065450638, train acc: 0.5664868438701525\n",
            " val loss: 1.232078557826103, val acc: 0.5660239361702127\n",
            "\n",
            "Epoch 12\n",
            " train loss: 1.224223985314587, train acc: 0.5693841407678245\n",
            " val loss: 1.2294567896964703, val acc: 0.5664228723404255\n",
            "\n",
            "Epoch 13\n",
            " train loss: 1.2270731922695362, train acc: 0.568572081530116\n",
            " val loss: 1.2200952773398541, val acc: 0.5721852837724889\n",
            "\n",
            "Epoch 14\n",
            " train loss: 1.2179082183123071, train acc: 0.5714530556903679\n",
            " val loss: 1.2247262138001462, val acc: 0.5673093973322118\n",
            "\n",
            "Epoch 15\n",
            " train loss: 1.2079800136346486, train acc: 0.5751542504570384\n",
            " val loss: 1.2145293096278575, val acc: 0.5732712765957447\n",
            "\n",
            "Epoch 16\n",
            " train loss: 1.2069107688541167, train acc: 0.575235864471038\n",
            " val loss: 1.2059274995580633, val acc: 0.5737145390916378\n",
            "\n",
            "Epoch 17\n",
            " train loss: 1.20433493048443, train acc: 0.5739545246800731\n",
            " val loss: 1.208068192766068, val acc: 0.578080673801138\n",
            "\n",
            "Epoch 18\n",
            " train loss: 1.205142407574209, train acc: 0.5787697506343207\n",
            " val loss: 1.2051608278396282, val acc: 0.5789007093044037\n",
            "\n",
            "Epoch 19\n",
            " train loss: 1.201325031259596, train acc: 0.5761091343009712\n",
            " val loss: 1.2118559045994535, val acc: 0.5736258865670955\n",
            "\n"
          ]
        }
      ],
      "source": [
        "# <your code here>\n",
        "\n",
        "transform = transforms.Compose(\n",
        "        [transforms.RandomRotation(degrees = 90),\n",
        "         transforms.ToTensor(),\n",
        "         transforms.Normalize((0.5, 0.5, 0.5), (0.5, 0.5, 0.5))]\n",
        ")\n",
        "\n",
        "train_loader, val_loader, test_loader = get_cifar10_data(batch_size=64, transform_train=transform)\n",
        "\n",
        "net = BasicBlockNet().to(device)\n",
        "optimizer = optim.SGD(net.parameters(), lr=0.1, momentum=0.9)\n",
        "scheduler = optim.lr_scheduler.MultiStepLR(optimizer, milestones=[10, 15], gamma=0.1)\n",
        "tr_loss_log, tr_acc_log, val_loss_log, val_acc_log = train(net, optimizer, 20, train_loader, val_loader, scheduler)"
      ]
    },
    {
      "cell_type": "code",
      "source": [
        "test(net, test_loader)"
      ],
      "metadata": {
        "colab": {
          "base_uri": "https://localhost:8080/"
        },
        "id": "PR4QlAq_bAiw",
        "outputId": "ef159222-fbed-44ac-e95f-551e92c927cf"
      },
      "execution_count": 43,
      "outputs": [
        {
          "output_type": "execute_result",
          "data": {
            "text/plain": [
              "(1.1558146100894662, 0.5997213375796179)"
            ]
          },
          "metadata": {},
          "execution_count": 43
        }
      ]
    },
    {
      "cell_type": "markdown",
      "source": [
        "-> Качество ухудшилось"
      ],
      "metadata": {
        "id": "FwzO7CSGNEJH"
      }
    },
    {
      "cell_type": "markdown",
      "source": [
        "transforms.ColorJitter: Произвольно изменять яркость, контрастность, насыщенность и оттенок изображения."
      ],
      "metadata": {
        "id": "qJnkL8onMVmX"
      }
    },
    {
      "cell_type": "code",
      "source": [
        "transform = transforms.Compose(\n",
        "        [transforms.ColorJitter(0.1, 0.1, 0.1),\n",
        "         transforms.ToTensor(),\n",
        "         transforms.Normalize((0.5, 0.5, 0.5), (0.5, 0.5, 0.5))]\n",
        ")\n",
        "\n",
        "train_loader, val_loader, test_loader = get_cifar10_data(batch_size=64, transform_train=transform)\n",
        "\n",
        "net = BasicBlockNet().to(device)\n",
        "optimizer = optim.SGD(net.parameters(), lr=0.1, momentum=0.9)\n",
        "scheduler = optim.lr_scheduler.MultiStepLR(optimizer, milestones=[10, 15], gamma=0.1)\n",
        "tr_loss_log, tr_acc_log, val_loss_log, val_acc_log = train(net, optimizer, 20, train_loader, val_loader, scheduler)"
      ],
      "metadata": {
        "colab": {
          "base_uri": "https://localhost:8080/"
        },
        "id": "ABKEFY2ZbDvv",
        "outputId": "979652dd-7b8a-4082-f166-37134a9b4ce9"
      },
      "execution_count": 44,
      "outputs": [
        {
          "output_type": "stream",
          "name": "stdout",
          "text": [
            "Files already downloaded and verified\n",
            "Files already downloaded and verified\n",
            "Epoch 0\n",
            " train loss: 1.4842825408827451, train acc: 0.4729000718981518\n",
            " val loss: 1.324833581549056, val acc: 0.5266400710065314\n",
            "\n",
            "Epoch 1\n",
            " train loss: 1.1717564434194478, train acc: 0.5907792504570384\n",
            " val loss: 1.087915209760057, val acc: 0.6212101063829787\n",
            "\n",
            "Epoch 2\n",
            " train loss: 1.0535400628607714, train acc: 0.6338632803076582\n",
            " val loss: 1.0167705360879289, val acc: 0.6473625888215735\n",
            "\n",
            "Epoch 3\n",
            " train loss: 0.9867819055124872, train acc: 0.658159767578899\n",
            " val loss: 0.982998505805401, val acc: 0.6594858156873825\n",
            "\n",
            "Epoch 4\n",
            " train loss: 0.9511156093049965, train acc: 0.6689246539877799\n",
            " val loss: 0.9815203030058678, val acc: 0.6570257093044037\n",
            "\n",
            "Epoch 5\n",
            " train loss: 0.9191412749194576, train acc: 0.6804893575813042\n",
            " val loss: 0.964594939414491, val acc: 0.6653368795171697\n",
            "\n",
            "Epoch 6\n",
            " train loss: 0.894184794297384, train acc: 0.6900218726294132\n",
            " val loss: 0.9157478089028216, val acc: 0.6813164893617021\n",
            "\n",
            "Epoch 7\n",
            " train loss: 0.8786683329389562, train acc: 0.6973589711041076\n",
            " val loss: 0.919786063153693, val acc: 0.6865691489361702\n",
            "\n",
            "Epoch 8\n",
            " train loss: 0.8665939282891519, train acc: 0.7005990467951982\n",
            " val loss: 0.9241724275528116, val acc: 0.6801196808510638\n",
            "\n",
            "Epoch 9\n",
            " train loss: 0.8384414649750677, train acc: 0.7095521023765996\n",
            " val loss: 0.8771121197558464, val acc: 0.702969858240574\n",
            "\n",
            "Epoch 10\n",
            " train loss: 0.7328471040159082, train acc: 0.7483432359407763\n",
            " val loss: 0.8221083576374866, val acc: 0.7171542553191489\n",
            "\n",
            "Epoch 11\n",
            " train loss: 0.7196635427379086, train acc: 0.7532645600151536\n",
            " val loss: 0.822494509245487, val acc: 0.7188608156873825\n",
            "\n",
            "Epoch 12\n",
            " train loss: 0.7143969072175418, train acc: 0.7524851463612516\n",
            " val loss: 0.816851111802649, val acc: 0.719503546268382\n",
            "\n",
            "Epoch 13\n",
            " train loss: 0.7089307909146959, train acc: 0.7566433795191471\n",
            " val loss: 0.81378473893125, val acc: 0.7222739361702127\n",
            "\n",
            "Epoch 14\n",
            " train loss: 0.7056047293124295, train acc: 0.7576145861004998\n",
            " val loss: 0.8105813930643365, val acc: 0.7191932624958931\n",
            "\n",
            "Epoch 15\n",
            " train loss: 0.6914386036627036, train acc: 0.7628460433844892\n",
            " val loss: 0.8032046030176446, val acc: 0.7247118795171698\n",
            "\n",
            "Epoch 16\n",
            " train loss: 0.6895214405312616, train acc: 0.7651883651395167\n",
            " val loss: 0.8050737505263471, val acc: 0.7225398936170213\n",
            "\n",
            "Epoch 17\n",
            " train loss: 0.6883206867648652, train acc: 0.7635111975495514\n",
            " val loss: 0.805764657766261, val acc: 0.7219858156873825\n",
            "\n",
            "Epoch 18\n",
            " train loss: 0.6866657737731062, train acc: 0.7655760316787734\n",
            " val loss: 0.8048355178630099, val acc: 0.7243351063829787\n",
            "\n",
            "Epoch 19\n",
            " train loss: 0.6866839008858696, train acc: 0.7664166558159334\n",
            " val loss: 0.8022691679761765, val acc: 0.722251773134191\n",
            "\n"
          ]
        }
      ]
    },
    {
      "cell_type": "code",
      "source": [
        "test(net, test_loader)"
      ],
      "metadata": {
        "id": "uTCQkmVmb6ml"
      },
      "execution_count": null,
      "outputs": []
    },
    {
      "cell_type": "markdown",
      "source": [
        "-> Качество сравнимое с тестовой"
      ],
      "metadata": {
        "id": "XjiGz2zONL4o"
      }
    },
    {
      "cell_type": "markdown",
      "source": [
        "transforms.GaussianBlur: Размывает изображение с помощью случайно выбранного размытия по Гауссу"
      ],
      "metadata": {
        "id": "9kPFOmrTMvl4"
      }
    },
    {
      "cell_type": "code",
      "source": [
        "transform = transforms.Compose(\n",
        "        [transforms.GaussianBlur(kernel_size=3, sigma=(0.1, 5.)),\n",
        "         transforms.ToTensor(),\n",
        "         transforms.Normalize((0.5, 0.5, 0.5), (0.5, 0.5, 0.5))]\n",
        ")\n",
        "\n",
        "train_loader, val_loader, test_loader = get_cifar10_data(batch_size=64, transform_train=transform)\n",
        "\n",
        "net = BasicBlockNet().to(device)\n",
        "optimizer = optim.SGD(net.parameters(), lr=0.1, momentum=0.9)\n",
        "scheduler = optim.lr_scheduler.MultiStepLR(optimizer, milestones=[10, 15], gamma=0.1)\n",
        "tr_loss_log, tr_acc_log, val_loss_log, val_acc_log = train(net, optimizer, 20, train_loader, val_loader, scheduler)"
      ],
      "metadata": {
        "colab": {
          "base_uri": "https://localhost:8080/"
        },
        "id": "6bodHH2-b8sC",
        "outputId": "2306dd1f-054d-4cfe-9bf4-68318b5d6410"
      },
      "execution_count": 46,
      "outputs": [
        {
          "output_type": "stream",
          "name": "stdout",
          "text": [
            "Files already downloaded and verified\n",
            "Files already downloaded and verified\n",
            "Epoch 0\n",
            " train loss: 1.5676340588268023, train acc: 0.441772492864668\n",
            " val loss: 1.406966521384868, val acc: 0.493594858240574\n",
            "\n",
            "Epoch 1\n",
            " train loss: 1.3093858971456287, train acc: 0.5366079590438271\n",
            " val loss: 1.2706543785460451, val acc: 0.5464095744680851\n",
            "\n",
            "Epoch 2\n",
            " train loss: 1.2199978631200912, train acc: 0.5711674066958523\n",
            " val loss: 1.197053966116398, val acc: 0.5800310284533399\n",
            "\n",
            "Epoch 3\n",
            " train loss: 1.1632193675642692, train acc: 0.5910404153454238\n",
            " val loss: 1.160570034574955, val acc: 0.5955452127659574\n",
            "\n",
            "Epoch 4\n",
            " train loss: 1.121275317843261, train acc: 0.6075876534965836\n",
            " val loss: 1.130894289625452, val acc: 0.604654255319149\n",
            "\n",
            "Epoch 5\n",
            " train loss: 1.0882408782376667, train acc: 0.6200827566099777\n",
            " val loss: 1.1409366698975258, val acc: 0.6058732271194458\n",
            "\n",
            "Epoch 6\n",
            " train loss: 1.0680494256167787, train acc: 0.6287256790907335\n",
            " val loss: 1.1175973402692916, val acc: 0.6096631207364671\n",
            "\n",
            "Epoch 7\n",
            " train loss: 1.0542167606039936, train acc: 0.631635218150437\n",
            " val loss: 1.0979900664471565, val acc: 0.6219193263256804\n",
            "\n",
            "Epoch 8\n",
            " train loss: 1.0327917924746735, train acc: 0.6402985440529678\n",
            " val loss: 1.0858009305406124, val acc: 0.6257313829787234\n",
            "\n",
            "Epoch 9\n",
            " train loss: 1.010233013786825, train acc: 0.6482355054161448\n",
            " val loss: 1.0364851210979704, val acc: 0.6385195037151905\n",
            "\n",
            "Epoch 10\n",
            " train loss: 0.8991298777965566, train acc: 0.6900055497830268\n",
            " val loss: 0.9742426164606784, val acc: 0.6619459220703612\n",
            "\n",
            "Epoch 11\n",
            " train loss: 0.887434467373644, train acc: 0.692592713580053\n",
            " val loss: 0.9670934537623791, val acc: 0.6674202127659574\n",
            "\n",
            "Epoch 12\n",
            " train loss: 0.8835564633827977, train acc: 0.6957838209499171\n",
            " val loss: 0.9709206875334395, val acc: 0.6649157803109351\n",
            "\n",
            "Epoch 13\n",
            " train loss: 0.87746645109745, train acc: 0.6980812549591064\n",
            " val loss: 0.9616663813591003, val acc: 0.667974290949233\n",
            "\n",
            "Epoch 14\n",
            " train loss: 0.8744823834577906, train acc: 0.6990157352722977\n",
            " val loss: 0.9658546886545547, val acc: 0.6661790781832756\n",
            "\n",
            "Epoch 15\n",
            " train loss: 0.8568500490685486, train acc: 0.7049898799420274\n",
            " val loss: 0.9546722079845185, val acc: 0.6704343973322118\n",
            "\n",
            "Epoch 16\n",
            " train loss: 0.8538943366769027, train acc: 0.7045654871346092\n",
            " val loss: 0.956564386347507, val acc: 0.6689273050490846\n",
            "\n",
            "Epoch 17\n",
            " train loss: 0.854545328909126, train acc: 0.7070791982863459\n",
            " val loss: 0.957172266980435, val acc: 0.6712101063829787\n",
            "\n",
            "Epoch 18\n",
            " train loss: 0.8525007150290871, train acc: 0.7065854336269595\n",
            " val loss: 0.9570201107796202, val acc: 0.6695035462683819\n",
            "\n",
            "Epoch 19\n",
            " train loss: 0.8532407767049137, train acc: 0.7058345847635427\n",
            " val loss: 0.9574900256826523, val acc: 0.6694813829787234\n",
            "\n"
          ]
        }
      ]
    },
    {
      "cell_type": "code",
      "source": [
        "test(net, test_loader)"
      ],
      "metadata": {
        "colab": {
          "base_uri": "https://localhost:8080/"
        },
        "id": "toZ_MS03cni3",
        "outputId": "39659965-c4c6-452f-9300-093fd99de6ca"
      },
      "execution_count": 47,
      "outputs": [
        {
          "output_type": "execute_result",
          "data": {
            "text/plain": [
              "(1.033256890667472, 0.6666003184713376)"
            ]
          },
          "metadata": {},
          "execution_count": 47
        }
      ]
    },
    {
      "cell_type": "markdown",
      "source": [
        "-> Качество ухудшилось"
      ],
      "metadata": {
        "id": "f9vl0BeSNX_0"
      }
    },
    {
      "cell_type": "markdown",
      "source": [
        "Выберем вместе 2 лучших способов аугментаций, которые мы смотрели:ColorJitter и GaussianBlur чтобы узнать что будет:"
      ],
      "metadata": {
        "id": "vab2WogoNdFV"
      }
    },
    {
      "cell_type": "code",
      "source": [
        "transform = transforms.Compose(\n",
        "        [transforms.ColorJitter(0.1, 0.1, 0.1),\n",
        "         transforms.GaussianBlur(kernel_size=3, sigma=(0.1, 5.)),\n",
        "         transforms.ToTensor(),\n",
        "         transforms.Normalize((0.5, 0.5, 0.5), (0.5, 0.5, 0.5))]\n",
        ")\n",
        "\n",
        "train_loader, val_loader, test_loader = get_cifar10_data(batch_size=64, transform_train=transform)\n",
        "\n",
        "net = BasicBlockNet().to(device)\n",
        "optimizer = optim.SGD(net.parameters(), lr=0.1, momentum=0.9)\n",
        "scheduler = optim.lr_scheduler.MultiStepLR(optimizer, milestones=[10, 15], gamma=0.1)\n",
        "tr_loss_log, tr_acc_log, val_loss_log, val_acc_log = train(net, optimizer, 20, train_loader, val_loader, scheduler)"
      ],
      "metadata": {
        "colab": {
          "base_uri": "https://localhost:8080/"
        },
        "id": "tLfIQZr2iNmw",
        "outputId": "9222ca36-e617-471c-b286-2cfe3e696817"
      },
      "execution_count": 48,
      "outputs": [
        {
          "output_type": "stream",
          "name": "stdout",
          "text": [
            "Files already downloaded and verified\n",
            "Files already downloaded and verified\n",
            "Epoch 0\n",
            " train loss: 1.5677750529057366, train acc: 0.4403320058390253\n",
            " val loss: 1.402199762425524, val acc: 0.4935505319148936\n",
            "\n",
            "Epoch 1\n",
            " train loss: 1.3273872489031315, train acc: 0.5303277618488402\n",
            " val loss: 1.2569062958372401, val acc: 0.5589982269926274\n",
            "\n",
            "Epoch 2\n",
            " train loss: 1.2253207768121193, train acc: 0.5688291656251799\n",
            " val loss: 1.1954953221564597, val acc: 0.5865469859001484\n",
            "\n",
            "Epoch 3\n",
            " train loss: 1.1587809146649224, train acc: 0.5944192348494173\n",
            " val loss: 1.1304609904897973, val acc: 0.6074246454746165\n",
            "\n",
            "Epoch 4\n",
            " train loss: 1.1115499859100286, train acc: 0.6113541395398338\n",
            " val loss: 1.1237755985970193, val acc: 0.605252659574468\n",
            "\n",
            "Epoch 5\n",
            " train loss: 1.0765024145734812, train acc: 0.6252774876258055\n",
            " val loss: 1.094687144299771, val acc: 0.6177748227373082\n",
            "\n",
            "Epoch 6\n",
            " train loss: 1.0534009941099332, train acc: 0.6323656633741459\n",
            " val loss: 1.0428873937180703, val acc: 0.6343528369639783\n",
            "\n",
            "Epoch 7\n",
            " train loss: 1.038878089113253, train acc: 0.6378501240688442\n",
            " val loss: 1.0757323229566533, val acc: 0.6310062057160316\n",
            "\n",
            "Epoch 8\n",
            " train loss: 1.0187884793638966, train acc: 0.6430979041992202\n",
            " val loss: 1.0566274290389204, val acc: 0.6355053191489362\n",
            "\n",
            "Epoch 9\n",
            " train loss: 0.9960938093867119, train acc: 0.6532751697726834\n",
            " val loss: 1.0421183456765843, val acc: 0.6443705674181593\n",
            "\n",
            "Epoch 10\n",
            " train loss: 0.8891428891004113, train acc: 0.6912664860432501\n",
            " val loss: 0.9558034102967445, val acc: 0.6681737590343394\n",
            "\n",
            "Epoch 11\n",
            " train loss: 0.8719144204198988, train acc: 0.698930040573943\n",
            " val loss: 0.9539074370201598, val acc: 0.6670434398854033\n",
            "\n",
            "Epoch 12\n",
            " train loss: 0.8670124838731407, train acc: 0.699497257878619\n",
            " val loss: 0.951802085815592, val acc: 0.6687056739279564\n",
            "\n",
            "Epoch 13\n",
            " train loss: 0.8618228743891393, train acc: 0.7032637438129028\n",
            " val loss: 0.943004170123567, val acc: 0.6711436170212766\n",
            "\n",
            "Epoch 14\n",
            " train loss: 0.8586102342692764, train acc: 0.7008030817757142\n",
            " val loss: 0.945815262135039, val acc: 0.6747340425531915\n",
            "\n",
            "Epoch 15\n",
            " train loss: 0.8432893295392694, train acc: 0.7090216114490516\n",
            " val loss: 0.933965687041587, val acc: 0.6737810284533399\n",
            "\n",
            "Epoch 16\n",
            " train loss: 0.8406397216498743, train acc: 0.7094256007257284\n",
            " val loss: 0.9355345462230926, val acc: 0.6775044327086591\n",
            "\n",
            "Epoch 17\n",
            " train loss: 0.8392505299783494, train acc: 0.7100948355751456\n",
            " val loss: 0.9369958200353257, val acc: 0.6722739361702128\n",
            "\n",
            "Epoch 18\n",
            " train loss: 0.8402244790816438, train acc: 0.7102662249718549\n",
            " val loss: 0.9333509787600092, val acc: 0.6766622340425532\n",
            "\n",
            "Epoch 19\n",
            " train loss: 0.8396610090240046, train acc: 0.7085033625745686\n",
            " val loss: 0.9332803028695127, val acc: 0.6753324468085107\n",
            "\n"
          ]
        }
      ]
    },
    {
      "cell_type": "code",
      "source": [
        "test(net, test_loader)"
      ],
      "metadata": {
        "colab": {
          "base_uri": "https://localhost:8080/"
        },
        "id": "OKo1UtJNiePo",
        "outputId": "a9ffad97-5c8e-4d11-aea6-f0d9893bb155"
      },
      "execution_count": 49,
      "outputs": [
        {
          "output_type": "execute_result",
          "data": {
            "text/plain": [
              "(0.9846030587603332, 0.6761544585987261)"
            ]
          },
          "metadata": {},
          "execution_count": 49
        }
      ]
    },
    {
      "cell_type": "markdown",
      "metadata": {
        "id": "4K-MptLiO9Dv",
        "pycharm": {
          "name": "#%% md\n"
        }
      },
      "source": [
        "Не можем добиться улучшения качества, но результат лучше, чем просто GaussianBlur, но хуже, чем ColorJitter."
      ]
    },
    {
      "cell_type": "markdown",
      "metadata": {
        "id": "HCENjLw5O9Dv",
        "pycharm": {
          "name": "#%% md\n"
        }
      },
      "source": [
        "## Бонус. Логирование в wandb (2 балла)"
      ]
    },
    {
      "cell_type": "markdown",
      "metadata": {
        "id": "xOyzc1mnO9Dv",
        "pycharm": {
          "name": "#%% md\n"
        }
      },
      "source": [
        "На практике специалиста по глубинному обучению часто встречаются ситуации, когда нейросеть учится на каком-то удаленном сервере. И обычно вам хочется отслеживать прогресс обучения, особенно когда время обучения модели исчисляется днями или неделями. Для таких целей существует несколько инструментов. Вероятно, самый популярный из них — [wandb](https://wandb.ai/site).\n",
        "\n",
        "Ваша задача состоит в том, чтобы разобраться как им пользоваться, и повторить задания 2.1 и 2.2 с его использованием. Обучение вы можете запускать в этом же ноутбуке, но теперь вам необходимо через wandb логировать значения функции потерь и точности на обучающей выборке и на валидационной. Результатом работы должны быть ваш код и публичная ссылка на страничку с графиками, идентичными графикам в задании 2.2."
      ]
    },
    {
      "cell_type": "code",
      "execution_count": 50,
      "metadata": {
        "id": "m5gSTLAr_QS4",
        "pycharm": {
          "name": "#%%\n"
        }
      },
      "outputs": [],
      "source": [
        "# <your code here>\n",
        "import wandb\n"
      ]
    },
    {
      "cell_type": "code",
      "source": [
        "!wandb login"
      ],
      "metadata": {
        "colab": {
          "base_uri": "https://localhost:8080/"
        },
        "id": "5KBSx_8eosca",
        "outputId": "eddab8ad-16db-4d50-a1fe-f9288231b07d"
      },
      "execution_count": 52,
      "outputs": [
        {
          "output_type": "stream",
          "name": "stdout",
          "text": [
            "\u001b[34m\u001b[1mwandb\u001b[0m: Logging into wandb.ai. (Learn how to deploy a W&B server locally: https://wandb.me/wandb-server)\n",
            "\u001b[34m\u001b[1mwandb\u001b[0m: You can find your API key in your browser here: https://wandb.ai/authorize\n",
            "\u001b[34m\u001b[1mwandb\u001b[0m: Paste an API key from your profile and hit enter, or press ctrl+c to quit: \n",
            "\u001b[34m\u001b[1mwandb\u001b[0m: Appending key for api.wandb.ai to your netrc file: /root/.netrc\n"
          ]
        }
      ]
    },
    {
      "cell_type": "code",
      "source": [
        "# start a new wandb run to track this script\n",
        "wandb.init(\n",
        "    # set the wandb project where this run will be logged\n",
        "    project=\"hse-hw2-cnn\",\n",
        "\n",
        "    # track hyperparameters and run metadata\n",
        "    config={\n",
        "    \"architecture\": \"CNN\",\n",
        "    \"dataset\": \"CIFAR-10\",\n",
        "    \"epochs\": 20,\n",
        "    }\n",
        ")"
      ],
      "metadata": {
        "colab": {
          "base_uri": "https://localhost:8080/",
          "height": 161
        },
        "id": "nV-XoPJXotBY",
        "outputId": "56023fe4-c4ef-4a18-cfb0-6b2c4cfc3b51"
      },
      "execution_count": 53,
      "outputs": [
        {
          "output_type": "stream",
          "name": "stderr",
          "text": [
            "\u001b[34m\u001b[1mwandb\u001b[0m: Using wandb-core as the SDK backend.  Please refer to https://wandb.me/wandb-core for more information.\n",
            "\u001b[34m\u001b[1mwandb\u001b[0m: Currently logged in as: \u001b[33mminhle12\u001b[0m (\u001b[33mminhle12-hse-university\u001b[0m). Use \u001b[1m`wandb login --relogin`\u001b[0m to force relogin\n"
          ]
        },
        {
          "output_type": "display_data",
          "data": {
            "text/plain": [
              "<IPython.core.display.HTML object>"
            ],
            "text/html": [
              "Tracking run with wandb version 0.18.7"
            ]
          },
          "metadata": {}
        },
        {
          "output_type": "display_data",
          "data": {
            "text/plain": [
              "<IPython.core.display.HTML object>"
            ],
            "text/html": [
              "Run data is saved locally in <code>/content/wandb/run-20241129_155718-cc6aus97</code>"
            ]
          },
          "metadata": {}
        },
        {
          "output_type": "display_data",
          "data": {
            "text/plain": [
              "<IPython.core.display.HTML object>"
            ],
            "text/html": [
              "Syncing run <strong><a href='https://wandb.ai/minhle12-hse-university/hse-hw2-cnn/runs/cc6aus97' target=\"_blank\">dulcet-fog-1</a></strong> to <a href='https://wandb.ai/minhle12-hse-university/hse-hw2-cnn' target=\"_blank\">Weights & Biases</a> (<a href='https://wandb.me/developer-guide' target=\"_blank\">docs</a>)<br/>"
            ]
          },
          "metadata": {}
        },
        {
          "output_type": "display_data",
          "data": {
            "text/plain": [
              "<IPython.core.display.HTML object>"
            ],
            "text/html": [
              " View project at <a href='https://wandb.ai/minhle12-hse-university/hse-hw2-cnn' target=\"_blank\">https://wandb.ai/minhle12-hse-university/hse-hw2-cnn</a>"
            ]
          },
          "metadata": {}
        },
        {
          "output_type": "display_data",
          "data": {
            "text/plain": [
              "<IPython.core.display.HTML object>"
            ],
            "text/html": [
              " View run at <a href='https://wandb.ai/minhle12-hse-university/hse-hw2-cnn/runs/cc6aus97' target=\"_blank\">https://wandb.ai/minhle12-hse-university/hse-hw2-cnn/runs/cc6aus97</a>"
            ]
          },
          "metadata": {}
        },
        {
          "output_type": "execute_result",
          "data": {
            "text/html": [
              "<button onClick=\"this.nextSibling.style.display='block';this.style.display='none';\">Display W&B run</button><iframe src='https://wandb.ai/minhle12-hse-university/hse-hw2-cnn/runs/cc6aus97?jupyter=true' style='border:none;width:100%;height:420px;display:none;'></iframe>"
            ],
            "text/plain": [
              "<wandb.sdk.wandb_run.Run at 0x7ec9ae916290>"
            ]
          },
          "metadata": {},
          "execution_count": 53
        }
      ]
    },
    {
      "cell_type": "code",
      "source": [
        "def test(model, loader):\n",
        "    loss_log = []\n",
        "    acc_log = []\n",
        "    model.eval()\n",
        "\n",
        "    criterion = nn.CrossEntropyLoss()\n",
        "\n",
        "    for data, target in loader:\n",
        "\n",
        "        # <your code here>\n",
        "        data = data.to(device)\n",
        "        target = target.to(device)\n",
        "        with torch.no_grad():\n",
        "          logits = model(data)\n",
        "          loss = criterion(logits, target)\n",
        "\n",
        "        acc = (logits.argmax(dim=1) == target).sum() / data.shape[0]\n",
        "\n",
        "        loss_log.append(loss.item())\n",
        "        acc_log.append(acc.item())\n",
        "\n",
        "    return np.mean(loss_log), np.mean(acc_log)\n",
        "\n",
        "def train_epoch(model, optimizer, train_loader):\n",
        "    loss_log = []\n",
        "    acc_log = []\n",
        "    model.train()\n",
        "\n",
        "    criterion = nn.CrossEntropyLoss()\n",
        "\n",
        "    for data, target in train_loader:\n",
        "      data = data.to(device)\n",
        "      target = target.to(device)\n",
        "\n",
        "      optimizer.zero_grad()\n",
        "      logits = model(data)\n",
        "      loss = criterion(logits, target)\n",
        "      loss.backward()\n",
        "      optimizer.step()\n",
        "\n",
        "      acc = (logits.argmax(dim=1) == target).sum() / data.shape[0]\n",
        "\n",
        "      loss_log.append(loss.item())\n",
        "      acc_log.append(acc.item())\n",
        "\n",
        "    return loss_log, acc_log\n",
        "\n",
        "def train(model, optimizer, n_epochs, train_loader, val_loader, scheduler=None):\n",
        "    train_loss_log, train_acc_log, val_loss_log, val_acc_log = [], [], [], []\n",
        "    train_loss_epochs, train_acc_epochs = [], []\n",
        "    run = wandb.init(project='hse-hw2-cnn')\n",
        "\n",
        "    for epoch in range(n_epochs):\n",
        "        train_loss, train_acc = train_epoch(model, optimizer, train_loader)\n",
        "        val_loss, val_acc = test(model, val_loader)\n",
        "\n",
        "        train_loss_log.extend(train_loss)\n",
        "        train_acc_log.extend(train_acc)\n",
        "        train_loss_epochs.append(np.mean(train_loss))\n",
        "        train_acc_epochs.append(np.mean(train_acc))\n",
        "\n",
        "        val_loss_log.append(val_loss)\n",
        "        val_acc_log.append(val_acc)\n",
        "\n",
        "        wandb.log({\"Accuracy\": wandb.plot.line_series(\n",
        "                xs=list(range(epoch + 1)),\n",
        "                ys=[train_acc_epochs, val_acc_log],\n",
        "                keys=[\"train\", \"val\"],\n",
        "                title=\"Accuracy\",\n",
        "                xname=\"epoch\")})\n",
        "\n",
        "        wandb.log({\"Loss\": wandb.plot.line_series(\n",
        "                xs=list(range(epoch + 1)),\n",
        "                ys=[train_loss_epochs, val_loss_log],\n",
        "                keys=[\"train\", \"val\"],\n",
        "                title=\"Loss\",\n",
        "                xname=\"epoch\")})\n",
        "\n",
        "        print(f\"Epoch {epoch}\")\n",
        "        print(f\" train loss: {np.mean(train_loss)}, train acc: {np.mean(train_acc)}\")\n",
        "        print(f\" val loss: {val_loss}, val acc: {val_acc}\\n\")\n",
        "\n",
        "        if scheduler is not None:\n",
        "            scheduler.step()\n",
        "\n",
        "    run.finish()\n",
        "\n",
        "    return train_loss_log, train_acc_log, val_loss_log, val_acc_log"
      ],
      "metadata": {
        "id": "Euo-mgnapOlP"
      },
      "execution_count": 54,
      "outputs": []
    },
    {
      "cell_type": "code",
      "source": [
        "net = BasicBlockNet().to(device)\n",
        "optimizer = optim.SGD(net.parameters(), lr=0.1, momentum=0.9)\n",
        "train_loss_log, train_acc_log, val_loss_log, val_acc_log = train(net, optimizer, 20, train_loader, val_loader)"
      ],
      "metadata": {
        "colab": {
          "base_uri": "https://localhost:8080/",
          "height": 1000
        },
        "id": "3Ua8RGlmqzp-",
        "outputId": "d5b92af9-e1e7-484a-c894-4ce8511a6bd5"
      },
      "execution_count": 55,
      "outputs": [
        {
          "data": {
            "text/html": [
              "Finishing last run (ID:cc6aus97) before initializing another..."
            ],
            "text/plain": [
              "<IPython.core.display.HTML object>"
            ]
          },
          "metadata": {},
          "output_type": "display_data"
        },
        {
          "data": {
            "text/html": [
              " View run <strong style=\"color:#cdcd00\">dulcet-fog-1</strong> at: <a href='https://wandb.ai/minhle12-hse-university/hse-hw2-cnn/runs/cc6aus97' target=\"_blank\">https://wandb.ai/minhle12-hse-university/hse-hw2-cnn/runs/cc6aus97</a><br/> View project at: <a href='https://wandb.ai/minhle12-hse-university/hse-hw2-cnn' target=\"_blank\">https://wandb.ai/minhle12-hse-university/hse-hw2-cnn</a><br/>Synced 5 W&B file(s), 0 media file(s), 0 artifact file(s) and 0 other file(s)"
            ],
            "text/plain": [
              "<IPython.core.display.HTML object>"
            ]
          },
          "metadata": {},
          "output_type": "display_data"
        },
        {
          "data": {
            "text/html": [
              "Find logs at: <code>./wandb/run-20241129_155718-cc6aus97/logs</code>"
            ],
            "text/plain": [
              "<IPython.core.display.HTML object>"
            ]
          },
          "metadata": {},
          "output_type": "display_data"
        },
        {
          "data": {
            "text/html": [
              "Successfully finished last run (ID:cc6aus97). Initializing new run:<br/>"
            ],
            "text/plain": [
              "<IPython.core.display.HTML object>"
            ]
          },
          "metadata": {},
          "output_type": "display_data"
        },
        {
          "data": {
            "text/html": [
              "Tracking run with wandb version 0.18.7"
            ],
            "text/plain": [
              "<IPython.core.display.HTML object>"
            ]
          },
          "metadata": {},
          "output_type": "display_data"
        },
        {
          "data": {
            "text/html": [
              "Run data is saved locally in <code>/content/wandb/run-20241129_160518-7a30p07u</code>"
            ],
            "text/plain": [
              "<IPython.core.display.HTML object>"
            ]
          },
          "metadata": {},
          "output_type": "display_data"
        },
        {
          "data": {
            "text/html": [
              "Syncing run <strong><a href='https://wandb.ai/minhle12-hse-university/hse-hw2-cnn/runs/7a30p07u' target=\"_blank\">revived-capybara-2</a></strong> to <a href='https://wandb.ai/minhle12-hse-university/hse-hw2-cnn' target=\"_blank\">Weights & Biases</a> (<a href='https://wandb.me/developer-guide' target=\"_blank\">docs</a>)<br/>"
            ],
            "text/plain": [
              "<IPython.core.display.HTML object>"
            ]
          },
          "metadata": {},
          "output_type": "display_data"
        },
        {
          "data": {
            "text/html": [
              " View project at <a href='https://wandb.ai/minhle12-hse-university/hse-hw2-cnn' target=\"_blank\">https://wandb.ai/minhle12-hse-university/hse-hw2-cnn</a>"
            ],
            "text/plain": [
              "<IPython.core.display.HTML object>"
            ]
          },
          "metadata": {},
          "output_type": "display_data"
        },
        {
          "data": {
            "text/html": [
              " View run at <a href='https://wandb.ai/minhle12-hse-university/hse-hw2-cnn/runs/7a30p07u' target=\"_blank\">https://wandb.ai/minhle12-hse-university/hse-hw2-cnn/runs/7a30p07u</a>"
            ],
            "text/plain": [
              "<IPython.core.display.HTML object>"
            ]
          },
          "metadata": {},
          "output_type": "display_data"
        },
        {
          "output_type": "stream",
          "name": "stdout",
          "text": [
            "Epoch 0\n",
            " train loss: 1.6113075059336326, train acc: 0.4213649125487103\n",
            " val loss: 1.4134569046345162, val acc: 0.49488031914893615\n",
            "\n",
            "Epoch 1\n",
            " train loss: 1.3787035920284347, train acc: 0.5070840950639853\n",
            " val loss: 1.2603602422044633, val acc: 0.5502437944107867\n",
            "\n",
            "Epoch 2\n",
            " train loss: 1.2592896799500726, train acc: 0.5540692739774365\n",
            " val loss: 1.2234389819997422, val acc: 0.5652703901554675\n",
            "\n",
            "Epoch 3\n",
            " train loss: 1.2124962763115084, train acc: 0.5697881301534677\n",
            " val loss: 1.1864510665548609, val acc: 0.5814273050490846\n",
            "\n",
            "Epoch 4\n",
            " train loss: 1.1654153432445074, train acc: 0.5890408723838151\n",
            " val loss: 1.1742364069248767, val acc: 0.5909796100981692\n",
            "\n",
            "Epoch 5\n",
            " train loss: 1.1307679508460287, train acc: 0.6042863672132683\n",
            " val loss: 1.1491284857404993, val acc: 0.5995124114320634\n",
            "\n",
            "Epoch 6\n",
            " train loss: 1.107713680380659, train acc: 0.6111419430816414\n",
            " val loss: 1.1425831891120748, val acc: 0.6026374114320633\n",
            "\n",
            "Epoch 7\n",
            " train loss: 1.0937612515480906, train acc: 0.6163978845807273\n",
            " val loss: 1.1000276081105496, val acc: 0.6169326241980208\n",
            "\n",
            "Epoch 8\n",
            " train loss: 1.0776987088881638, train acc: 0.6214987595294904\n",
            " val loss: 1.1362960891520724, val acc: 0.5982491135597229\n",
            "\n",
            "Epoch 9\n",
            " train loss: 1.0615960666858737, train acc: 0.6264200836038677\n",
            " val loss: 1.1217958424953705, val acc: 0.6081338654173182\n",
            "\n",
            "Epoch 10\n",
            " train loss: 1.0559723424083354, train acc: 0.6282319144313471\n",
            " val loss: 1.0588717777678307, val acc: 0.6289893617021277\n",
            "\n",
            "Epoch 11\n",
            " train loss: 1.038210313433485, train acc: 0.6348508096264311\n",
            " val loss: 1.0836998929368689, val acc: 0.6248226950777338\n",
            "\n",
            "Epoch 12\n",
            " train loss: 1.0315793700366396, train acc: 0.6380541591583266\n",
            " val loss: 1.0828632090954071, val acc: 0.6253102837724889\n",
            "\n",
            "Epoch 13\n",
            " train loss: 1.021880710691595, train acc: 0.6401965265082267\n",
            " val loss: 1.0385124670698287, val acc: 0.6372118795171697\n",
            "\n",
            "Epoch 14\n",
            " train loss: 1.0037642470007622, train acc: 0.648337522960886\n",
            " val loss: 1.0697426250640383, val acc: 0.628656914893617\n",
            "\n",
            "Epoch 15\n",
            " train loss: 0.9979695065365849, train acc: 0.6525406438646194\n",
            " val loss: 1.0625664054079258, val acc: 0.6296764184819891\n",
            "\n",
            "Epoch 16\n",
            " train loss: 0.9940475356208341, train acc: 0.6510103813473006\n",
            " val loss: 1.038504244926128, val acc: 0.6409796100981692\n",
            "\n",
            "Epoch 17\n",
            " train loss: 0.9873783789997345, train acc: 0.6554909898768395\n",
            " val loss: 1.0487133584123978, val acc: 0.6330008866939139\n",
            "\n",
            "Epoch 18\n",
            " train loss: 0.9803223656779887, train acc: 0.6604776052277964\n",
            " val loss: 1.0120296782635627, val acc: 0.6520168441407224\n",
            "\n",
            "Epoch 19\n",
            " train loss: 0.9714615682797196, train acc: 0.6629382672649851\n",
            " val loss: 1.1038622442712176, val acc: 0.6214317376309253\n",
            "\n"
          ]
        },
        {
          "output_type": "display_data",
          "data": {
            "text/plain": [
              "<IPython.core.display.HTML object>"
            ],
            "text/html": [
              " View run <strong style=\"color:#cdcd00\">revived-capybara-2</strong> at: <a href='https://wandb.ai/minhle12-hse-university/hse-hw2-cnn/runs/7a30p07u' target=\"_blank\">https://wandb.ai/minhle12-hse-university/hse-hw2-cnn/runs/7a30p07u</a><br/> View project at: <a href='https://wandb.ai/minhle12-hse-university/hse-hw2-cnn' target=\"_blank\">https://wandb.ai/minhle12-hse-university/hse-hw2-cnn</a><br/>Synced 5 W&B file(s), 0 media file(s), 80 artifact file(s) and 40 other file(s)"
            ]
          },
          "metadata": {}
        },
        {
          "output_type": "display_data",
          "data": {
            "text/plain": [
              "<IPython.core.display.HTML object>"
            ],
            "text/html": [
              "Find logs at: <code>./wandb/run-20241129_160518-7a30p07u/logs</code>"
            ]
          },
          "metadata": {}
        }
      ]
    },
    {
      "cell_type": "markdown",
      "source": [
        "Тут все графики:\n",
        "\n",
        "https://api.wandb.ai/links/minhle12-hse-university/nl7e6kq4\n",
        "\n",
        "https://api.wandb.ai/links/minhle12-hse-university/s1c3izlq"
      ],
      "metadata": {
        "id": "hSFrZjzcx4lq"
      }
    },
    {
      "cell_type": "code",
      "source": [],
      "metadata": {
        "id": "JIzsdadlx5iD"
      },
      "execution_count": null,
      "outputs": []
    }
  ],
  "metadata": {
    "accelerator": "GPU",
    "colab": {
      "provenance": []
    },
    "kernelspec": {
      "display_name": "Python 3 (ipykernel)",
      "language": "python",
      "name": "python3"
    },
    "language_info": {
      "codemirror_mode": {
        "name": "ipython",
        "version": 3
      },
      "file_extension": ".py",
      "mimetype": "text/x-python",
      "name": "python",
      "nbconvert_exporter": "python",
      "pygments_lexer": "ipython3",
      "version": "3.10.4"
    }
  },
  "nbformat": 4,
  "nbformat_minor": 0
}